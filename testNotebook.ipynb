{
  "cells": [
    {
      "cell_type": "code",
      "execution_count": null,
      "id": "e6932d41",
      "metadata": {
        "colab": {
          "base_uri": "https://localhost:8080/",
          "height": 412
        },
        "collapsed": true,
        "id": "e6932d41",
        "jupyter": {
          "outputs_hidden": true,
          "source_hidden": true
        },
        "outputId": "14ab8ec8-260c-4dde-c044-22aeba36cb15",
        "tags": []
      },
      "outputs": [
        {
          "output_type": "error",
          "ename": "FileNotFoundError",
          "evalue": "[Errno 2] No such file or directory: 'weather.csv'",
          "traceback": [
            "\u001b[0;31m---------------------------------------------------------------------------\u001b[0m",
            "\u001b[0;31mFileNotFoundError\u001b[0m                         Traceback (most recent call last)",
            "\u001b[0;32m<ipython-input-16-03be8724e7f1>\u001b[0m in \u001b[0;36m<cell line: 0>\u001b[0;34m()\u001b[0m\n\u001b[1;32m      8\u001b[0m \u001b[0;34m\u001b[0m\u001b[0m\n\u001b[1;32m      9\u001b[0m \u001b[0;34m\u001b[0m\u001b[0m\n\u001b[0;32m---> 10\u001b[0;31m \u001b[0mdf\u001b[0m \u001b[0;34m=\u001b[0m \u001b[0mpd\u001b[0m\u001b[0;34m.\u001b[0m\u001b[0mread_csv\u001b[0m\u001b[0;34m(\u001b[0m\u001b[0;34m'weather.csv'\u001b[0m\u001b[0;34m)\u001b[0m\u001b[0;34m\u001b[0m\u001b[0;34m\u001b[0m\u001b[0m\n\u001b[0m\u001b[1;32m     11\u001b[0m \u001b[0;34m\u001b[0m\u001b[0m\n\u001b[1;32m     12\u001b[0m \u001b[0;31m# Convert categorical features to numerical\u001b[0m\u001b[0;34m\u001b[0m\u001b[0;34m\u001b[0m\u001b[0m\n",
            "\u001b[0;32m/usr/local/lib/python3.11/dist-packages/pandas/io/parsers/readers.py\u001b[0m in \u001b[0;36mread_csv\u001b[0;34m(filepath_or_buffer, sep, delimiter, header, names, index_col, usecols, dtype, engine, converters, true_values, false_values, skipinitialspace, skiprows, skipfooter, nrows, na_values, keep_default_na, na_filter, verbose, skip_blank_lines, parse_dates, infer_datetime_format, keep_date_col, date_parser, date_format, dayfirst, cache_dates, iterator, chunksize, compression, thousands, decimal, lineterminator, quotechar, quoting, doublequote, escapechar, comment, encoding, encoding_errors, dialect, on_bad_lines, delim_whitespace, low_memory, memory_map, float_precision, storage_options, dtype_backend)\u001b[0m\n\u001b[1;32m   1024\u001b[0m     \u001b[0mkwds\u001b[0m\u001b[0;34m.\u001b[0m\u001b[0mupdate\u001b[0m\u001b[0;34m(\u001b[0m\u001b[0mkwds_defaults\u001b[0m\u001b[0;34m)\u001b[0m\u001b[0;34m\u001b[0m\u001b[0;34m\u001b[0m\u001b[0m\n\u001b[1;32m   1025\u001b[0m \u001b[0;34m\u001b[0m\u001b[0m\n\u001b[0;32m-> 1026\u001b[0;31m     \u001b[0;32mreturn\u001b[0m \u001b[0m_read\u001b[0m\u001b[0;34m(\u001b[0m\u001b[0mfilepath_or_buffer\u001b[0m\u001b[0;34m,\u001b[0m \u001b[0mkwds\u001b[0m\u001b[0;34m)\u001b[0m\u001b[0;34m\u001b[0m\u001b[0;34m\u001b[0m\u001b[0m\n\u001b[0m\u001b[1;32m   1027\u001b[0m \u001b[0;34m\u001b[0m\u001b[0m\n\u001b[1;32m   1028\u001b[0m \u001b[0;34m\u001b[0m\u001b[0m\n",
            "\u001b[0;32m/usr/local/lib/python3.11/dist-packages/pandas/io/parsers/readers.py\u001b[0m in \u001b[0;36m_read\u001b[0;34m(filepath_or_buffer, kwds)\u001b[0m\n\u001b[1;32m    618\u001b[0m \u001b[0;34m\u001b[0m\u001b[0m\n\u001b[1;32m    619\u001b[0m     \u001b[0;31m# Create the parser.\u001b[0m\u001b[0;34m\u001b[0m\u001b[0;34m\u001b[0m\u001b[0m\n\u001b[0;32m--> 620\u001b[0;31m     \u001b[0mparser\u001b[0m \u001b[0;34m=\u001b[0m \u001b[0mTextFileReader\u001b[0m\u001b[0;34m(\u001b[0m\u001b[0mfilepath_or_buffer\u001b[0m\u001b[0;34m,\u001b[0m \u001b[0;34m**\u001b[0m\u001b[0mkwds\u001b[0m\u001b[0;34m)\u001b[0m\u001b[0;34m\u001b[0m\u001b[0;34m\u001b[0m\u001b[0m\n\u001b[0m\u001b[1;32m    621\u001b[0m \u001b[0;34m\u001b[0m\u001b[0m\n\u001b[1;32m    622\u001b[0m     \u001b[0;32mif\u001b[0m \u001b[0mchunksize\u001b[0m \u001b[0;32mor\u001b[0m \u001b[0miterator\u001b[0m\u001b[0;34m:\u001b[0m\u001b[0;34m\u001b[0m\u001b[0;34m\u001b[0m\u001b[0m\n",
            "\u001b[0;32m/usr/local/lib/python3.11/dist-packages/pandas/io/parsers/readers.py\u001b[0m in \u001b[0;36m__init__\u001b[0;34m(self, f, engine, **kwds)\u001b[0m\n\u001b[1;32m   1618\u001b[0m \u001b[0;34m\u001b[0m\u001b[0m\n\u001b[1;32m   1619\u001b[0m         \u001b[0mself\u001b[0m\u001b[0;34m.\u001b[0m\u001b[0mhandles\u001b[0m\u001b[0;34m:\u001b[0m \u001b[0mIOHandles\u001b[0m \u001b[0;34m|\u001b[0m \u001b[0;32mNone\u001b[0m \u001b[0;34m=\u001b[0m \u001b[0;32mNone\u001b[0m\u001b[0;34m\u001b[0m\u001b[0;34m\u001b[0m\u001b[0m\n\u001b[0;32m-> 1620\u001b[0;31m         \u001b[0mself\u001b[0m\u001b[0;34m.\u001b[0m\u001b[0m_engine\u001b[0m \u001b[0;34m=\u001b[0m \u001b[0mself\u001b[0m\u001b[0;34m.\u001b[0m\u001b[0m_make_engine\u001b[0m\u001b[0;34m(\u001b[0m\u001b[0mf\u001b[0m\u001b[0;34m,\u001b[0m \u001b[0mself\u001b[0m\u001b[0;34m.\u001b[0m\u001b[0mengine\u001b[0m\u001b[0;34m)\u001b[0m\u001b[0;34m\u001b[0m\u001b[0;34m\u001b[0m\u001b[0m\n\u001b[0m\u001b[1;32m   1621\u001b[0m \u001b[0;34m\u001b[0m\u001b[0m\n\u001b[1;32m   1622\u001b[0m     \u001b[0;32mdef\u001b[0m \u001b[0mclose\u001b[0m\u001b[0;34m(\u001b[0m\u001b[0mself\u001b[0m\u001b[0;34m)\u001b[0m \u001b[0;34m->\u001b[0m \u001b[0;32mNone\u001b[0m\u001b[0;34m:\u001b[0m\u001b[0;34m\u001b[0m\u001b[0;34m\u001b[0m\u001b[0m\n",
            "\u001b[0;32m/usr/local/lib/python3.11/dist-packages/pandas/io/parsers/readers.py\u001b[0m in \u001b[0;36m_make_engine\u001b[0;34m(self, f, engine)\u001b[0m\n\u001b[1;32m   1878\u001b[0m                 \u001b[0;32mif\u001b[0m \u001b[0;34m\"b\"\u001b[0m \u001b[0;32mnot\u001b[0m \u001b[0;32min\u001b[0m \u001b[0mmode\u001b[0m\u001b[0;34m:\u001b[0m\u001b[0;34m\u001b[0m\u001b[0;34m\u001b[0m\u001b[0m\n\u001b[1;32m   1879\u001b[0m                     \u001b[0mmode\u001b[0m \u001b[0;34m+=\u001b[0m \u001b[0;34m\"b\"\u001b[0m\u001b[0;34m\u001b[0m\u001b[0;34m\u001b[0m\u001b[0m\n\u001b[0;32m-> 1880\u001b[0;31m             self.handles = get_handle(\n\u001b[0m\u001b[1;32m   1881\u001b[0m                 \u001b[0mf\u001b[0m\u001b[0;34m,\u001b[0m\u001b[0;34m\u001b[0m\u001b[0;34m\u001b[0m\u001b[0m\n\u001b[1;32m   1882\u001b[0m                 \u001b[0mmode\u001b[0m\u001b[0;34m,\u001b[0m\u001b[0;34m\u001b[0m\u001b[0;34m\u001b[0m\u001b[0m\n",
            "\u001b[0;32m/usr/local/lib/python3.11/dist-packages/pandas/io/common.py\u001b[0m in \u001b[0;36mget_handle\u001b[0;34m(path_or_buf, mode, encoding, compression, memory_map, is_text, errors, storage_options)\u001b[0m\n\u001b[1;32m    871\u001b[0m         \u001b[0;32mif\u001b[0m \u001b[0mioargs\u001b[0m\u001b[0;34m.\u001b[0m\u001b[0mencoding\u001b[0m \u001b[0;32mand\u001b[0m \u001b[0;34m\"b\"\u001b[0m \u001b[0;32mnot\u001b[0m \u001b[0;32min\u001b[0m \u001b[0mioargs\u001b[0m\u001b[0;34m.\u001b[0m\u001b[0mmode\u001b[0m\u001b[0;34m:\u001b[0m\u001b[0;34m\u001b[0m\u001b[0;34m\u001b[0m\u001b[0m\n\u001b[1;32m    872\u001b[0m             \u001b[0;31m# Encoding\u001b[0m\u001b[0;34m\u001b[0m\u001b[0;34m\u001b[0m\u001b[0m\n\u001b[0;32m--> 873\u001b[0;31m             handle = open(\n\u001b[0m\u001b[1;32m    874\u001b[0m                 \u001b[0mhandle\u001b[0m\u001b[0;34m,\u001b[0m\u001b[0;34m\u001b[0m\u001b[0;34m\u001b[0m\u001b[0m\n\u001b[1;32m    875\u001b[0m                 \u001b[0mioargs\u001b[0m\u001b[0;34m.\u001b[0m\u001b[0mmode\u001b[0m\u001b[0;34m,\u001b[0m\u001b[0;34m\u001b[0m\u001b[0;34m\u001b[0m\u001b[0m\n",
            "\u001b[0;31mFileNotFoundError\u001b[0m: [Errno 2] No such file or directory: 'weather.csv'"
          ]
        }
      ],
      "source": [
        "import pandas as pd\n",
        "import matplotlib.pyplot as plt\n",
        "from sklearn.preprocessing import OneHotEncoder\n",
        "from sklearn.model_selection import train_test_split\n",
        "from sklearn.metrics import mean_squared_error, r2_score\n",
        "from sklearn.ensemble import RandomForestRegressor\n",
        "from sklearn.metrics import accuracy_score, classification_report\n",
        "\n",
        "\n",
        "df = pd.read_csv('weather.csv')\n",
        "\n",
        "# Convert categorical features to numerical\n",
        "df['RainTomorrow'] = df['RainTomorrow'].map({'No': 0, 'Yes': 1})\n",
        "df['RainToday'] = df['RainToday'].map({'No': 0, 'Yes': 1})\n",
        "\n",
        "# Identify the categorical columns you want to one-hot encode\n",
        "categorical_cols = ['WindGustDir', 'WindDir9am', 'WindDir3pm']\n",
        "\n",
        "# Create a OneHotEncoder object\n",
        "encoder = OneHotEncoder(handle_unknown='ignore', sparse_output=False)\n",
        "\n",
        "# Fit and transform the categorical columns\n",
        "encoded_data = encoder.fit_transform(df[categorical_cols])\n",
        "\n",
        "# Get the feature names for the new encoded columns\n",
        "feature_names = encoder.get_feature_names_out(categorical_cols)\n",
        "\n",
        "# Create a new DataFrame with the one-hot encoded data\n",
        "encoded_df = pd.DataFrame(encoded_data, columns=feature_names)\n",
        "\n",
        "# Concatenate the one-hot encoded DataFrame with the original DataFrame\n",
        "df_encoded = pd.concat([df.drop(categorical_cols, axis=1), encoded_df], axis=1)\n",
        "\n",
        "# Separate features (X) and target (y)\n",
        "X = df_encoded.drop(columns = ['Temp3pm'])# all columns except the rain tmr\n",
        "y = df_encoded['Temp3pm'] # last\n",
        "\n",
        "# Handle missing values\n",
        "X = X.dropna()\n",
        "y = y.loc[X.index] # y only has rows corresponding to row indices of X\n",
        "\n",
        "X_train, X_test, y_train, y_test = train_test_split(X, y, test_size=0.3, random_state=42)\n",
        "\n",
        "model = RandomForestRegressor()\n",
        "model.fit(X_train, y_train)\n",
        "\n",
        "y_pred = model.predict(X_test)\n",
        "print('y_pred = ' , y_pred)\n",
        "print('y_test = ' , y_test.to_numpy())\n",
        "plt.plot(y_pred, '--', label='Model')\n",
        "plt.plot(y_test.to_numpy(), label='Data')\n",
        "plt.legend()\n",
        "plt.show()\n",
        "\n",
        "# Evaluate the regression model\n",
        "mse = mean_squared_error(y_test, y_pred)\n",
        "r2 = r2_score(y_test, y_pred)\n",
        "\n",
        "print(f\"Mean Squared Error: {mse}\")\n",
        "print(f\"R-squared: {r2}\")\n",
        "# Get feature importances\n",
        "importances = model.feature_importances_\n",
        "# Create a DataFrame to store feature names and their importances\n",
        "feature_importances = pd.DataFrame({'Feature': X_train.columns, 'Importance': importances})\n",
        "# Sort the DataFrame by importance in descending order\n",
        "feature_importances = feature_importances.sort_values(by='Importance', ascending=False)\n",
        "# Print the feature importances\n",
        "print(\"\\nFeature Importances:\")\n",
        "print(feature_importances)"
      ]
    },
    {
      "cell_type": "markdown",
      "id": "077e24a2-668a-438d-b22e-2fdf3e0dad4c",
      "metadata": {
        "id": "077e24a2-668a-438d-b22e-2fdf3e0dad4c",
        "tags": []
      },
      "source": [
        "# Neural Operators\n",
        "\n",
        "Quinn Heng-Martin, Brandt Benfield; Colorado State University 2025\n",
        "\n",
        "## Introduction\n",
        "\n",
        "Neural Networks (NNs) are often described as universal function approximators, mapping an arbitrary set of inputs to outputs. This is certainly a very useful task, however in physics and engineering we are often interested in examining systems that produce different functions characterized by the same underlying behavior, depending on some initial or boundary conditions. It is the underlying behaviour we are interested in, not the particular function. That is, we seek to find mappings from functions to functions. This actually expands our problem space more than one might think: since there are an infinite number of functions that are completely unrelated (the family $\\delta(x-x_0)$ for example), our parameter space is actually *infinite dimensional*. This might seem an insurmountable challenge, but NNs provide a nice starting point. This function-to-function mapping is precisely what an operator is, so a NN-derived architecture to solve these problems, naturally, is called a Neural Operator (NO). NOs were originally proposed by researchers at Caltech in 2020 [[1](https://arxiv.org/abs/2010.08895)] [[2](https://arxiv.org/abs/2108.08481)] - We seek to use the NO library published by the this team ([arxiv](https://arxiv.org/abs/2412.10354)) to create short- to medium-term weather forecasts for Colorado (a conveniently rectangular state).\n",
        "\n",
        "### On the Technical Details\n",
        " Neural operators(NO) take an input function a(x) and transforms it through a series of lifting layers, followed by T Fourier layers, then a projection layer, ultimately outputting the solution function u(x). This sequential processing allows the NO to learn the mapping between infinite-dimensional function spaces.[[2](https://arxiv.org/pdf/2108.08481)]\n",
        "\n",
        "The internal structure of a single Fourier layer is as so. It receives an input function v(x). The core of the Fourier layer lies in its application of the Fourier transform (F) to the input, moving the function from the physical space to the Fourier space. In this spectral domain the different frequency modes of the function are represented. A linear operation with a filter kernel is then performed. This operation allows the network to selectively modify or emphasize certain frequency components. Subsequently, an inverse Fourier transform (inv(f)) brings the processed function back to the physical space. In parallel to this spectral pathway, the input function v(x) also undergoes a point-wise linear transformation. The outputs of the spectral pathway (after the inverse Fourier transform) and the point-wise transformation are then added together. Finally, a non-linear activation function σ is applied to the summed result preparing the output for the next layer in the sequence. By stacking multiple such Fourier layers the FNO can learn complex mappings between function spaces. Making it particularly effective for solving partial differential equations and other tasks involving continuous functions. The key innovation of FNOs lies in performing the integral operator in the Fourier domain through efficient element-wise multiplication. Which can be implemented using Fast Fourier Transforms, leading to computational efficiency and the ability to handle high-dimensional input and output spaces.[[2](https://arxiv.org/pdf/2108.08481)]\n",
        "\n",
        "\n",
        "### The Gameplan (Methodology):\n",
        "\n",
        "All training data is taken from the [\n",
        "ERA5 hourly data on single levels from 1940 to present](https://doi.org/10.24381/cds.adbb2d47) and converted to CSV format for communicative/hand-in purposes."
      ]
    },
    {
      "cell_type": "code",
      "execution_count": null,
      "id": "fbbae10f-1871-46f2-a1a4-cd37143ce9b6",
      "metadata": {
        "id": "fbbae10f-1871-46f2-a1a4-cd37143ce9b6",
        "tags": []
      },
      "outputs": [],
      "source": [
        "# Neural Operator install Options:\n",
        "#!pip install neuraloperator\n",
        "#!pip install git+https://github.com/neuraloperator/neuraloperator.git\n",
        "#!conda install conda-forge::neuraloperator\n",
        "\n",
        "from neuralop.training import Trainer\n",
        "from neuralop.models import FNO\n",
        "import pandas as pd\n",
        "import numpy as np\n",
        "import matplotlib.pyplot as plt\n",
        "from tqdm import tqdm\n",
        "import torch\n",
        "from torch.utils.data import Dataset, DataLoader\n",
        "\n",
        "# Dataset Preparation\n",
        "class WeatherTensorDataset(Dataset):          # This class is a custom dataset loader that will load preprocessed\n",
        "    def __init__(self, data_path):            # weather data (saved as a .pt file) into PyTorch’s data pipeline.\n",
        "        self.samples = torch.load(data_path)\n",
        "\n",
        "    def __len__(self):\n",
        "        return len(self.samples)\n",
        "\n",
        "    def __getitem__(self, idx):\n",
        "        return {'x': self.samples[idx][0], 'y': self.samples[idx][1]}"
      ]
    },
    {
      "cell_type": "markdown",
      "id": "e8dcb5a4-4a07-488c-8cf9-45e1da22613d",
      "metadata": {
        "tags": [],
        "id": "e8dcb5a4-4a07-488c-8cf9-45e1da22613d"
      },
      "source": [
        "First, let's load up our data and get a look at it:"
      ]
    },
    {
      "cell_type": "code",
      "execution_count": null,
      "id": "ad3b857a-5461-4a73-abf1-dbe95190fb0e",
      "metadata": {
        "tags": [],
        "colab": {
          "base_uri": "https://localhost:8080/",
          "height": 1000
        },
        "id": "ad3b857a-5461-4a73-abf1-dbe95190fb0e",
        "outputId": "115d11dd-bdc6-4d10-cd6b-bba4941e5211"
      },
      "outputs": [
        {
          "output_type": "display_data",
          "data": {
            "text/plain": [
              "           valid_time  latitude  longitude       u10       v10  \\\n",
              "0 2022-01-01 03:00:00      41.0     -109.0  0.694458 -0.103119   \n",
              "1 2022-01-01 03:00:00      41.0     -108.5  0.498169  0.364655   \n",
              "2 2022-01-01 03:00:00      41.0     -108.0 -0.283081  0.928131   \n",
              "3 2022-01-01 03:00:00      41.0     -107.5 -1.179565  1.212311   \n",
              "4 2022-01-01 03:00:00      41.0     -107.0 -0.895386  0.902740   \n",
              "\n",
              "   surface_dewpoint  surface_temperature  surface_pressure      u10n      v10n  \n",
              "0         261.02032            262.44580           77215.0  0.223984  0.018707  \n",
              "1         260.49298            261.94580           77910.0  0.170273  0.116364  \n",
              "2         260.55157            262.17627           77852.0 -0.130508  0.344879  \n",
              "3         259.16290            261.19970           75851.0 -0.657852  0.766754  \n",
              "4         258.49884            260.38330           73532.0 -0.682266  0.731598  "
            ],
            "text/html": [
              "\n",
              "  <div id=\"df-af6acc06-c23f-42d8-a615-1f36974c0461\" class=\"colab-df-container\">\n",
              "    <div>\n",
              "<style scoped>\n",
              "    .dataframe tbody tr th:only-of-type {\n",
              "        vertical-align: middle;\n",
              "    }\n",
              "\n",
              "    .dataframe tbody tr th {\n",
              "        vertical-align: top;\n",
              "    }\n",
              "\n",
              "    .dataframe thead th {\n",
              "        text-align: right;\n",
              "    }\n",
              "</style>\n",
              "<table border=\"1\" class=\"dataframe\">\n",
              "  <thead>\n",
              "    <tr style=\"text-align: right;\">\n",
              "      <th></th>\n",
              "      <th>valid_time</th>\n",
              "      <th>latitude</th>\n",
              "      <th>longitude</th>\n",
              "      <th>u10</th>\n",
              "      <th>v10</th>\n",
              "      <th>surface_dewpoint</th>\n",
              "      <th>surface_temperature</th>\n",
              "      <th>surface_pressure</th>\n",
              "      <th>u10n</th>\n",
              "      <th>v10n</th>\n",
              "    </tr>\n",
              "  </thead>\n",
              "  <tbody>\n",
              "    <tr>\n",
              "      <th>0</th>\n",
              "      <td>2022-01-01 03:00:00</td>\n",
              "      <td>41.0</td>\n",
              "      <td>-109.0</td>\n",
              "      <td>0.694458</td>\n",
              "      <td>-0.103119</td>\n",
              "      <td>261.02032</td>\n",
              "      <td>262.44580</td>\n",
              "      <td>77215.0</td>\n",
              "      <td>0.223984</td>\n",
              "      <td>0.018707</td>\n",
              "    </tr>\n",
              "    <tr>\n",
              "      <th>1</th>\n",
              "      <td>2022-01-01 03:00:00</td>\n",
              "      <td>41.0</td>\n",
              "      <td>-108.5</td>\n",
              "      <td>0.498169</td>\n",
              "      <td>0.364655</td>\n",
              "      <td>260.49298</td>\n",
              "      <td>261.94580</td>\n",
              "      <td>77910.0</td>\n",
              "      <td>0.170273</td>\n",
              "      <td>0.116364</td>\n",
              "    </tr>\n",
              "    <tr>\n",
              "      <th>2</th>\n",
              "      <td>2022-01-01 03:00:00</td>\n",
              "      <td>41.0</td>\n",
              "      <td>-108.0</td>\n",
              "      <td>-0.283081</td>\n",
              "      <td>0.928131</td>\n",
              "      <td>260.55157</td>\n",
              "      <td>262.17627</td>\n",
              "      <td>77852.0</td>\n",
              "      <td>-0.130508</td>\n",
              "      <td>0.344879</td>\n",
              "    </tr>\n",
              "    <tr>\n",
              "      <th>3</th>\n",
              "      <td>2022-01-01 03:00:00</td>\n",
              "      <td>41.0</td>\n",
              "      <td>-107.5</td>\n",
              "      <td>-1.179565</td>\n",
              "      <td>1.212311</td>\n",
              "      <td>259.16290</td>\n",
              "      <td>261.19970</td>\n",
              "      <td>75851.0</td>\n",
              "      <td>-0.657852</td>\n",
              "      <td>0.766754</td>\n",
              "    </tr>\n",
              "    <tr>\n",
              "      <th>4</th>\n",
              "      <td>2022-01-01 03:00:00</td>\n",
              "      <td>41.0</td>\n",
              "      <td>-107.0</td>\n",
              "      <td>-0.895386</td>\n",
              "      <td>0.902740</td>\n",
              "      <td>258.49884</td>\n",
              "      <td>260.38330</td>\n",
              "      <td>73532.0</td>\n",
              "      <td>-0.682266</td>\n",
              "      <td>0.731598</td>\n",
              "    </tr>\n",
              "  </tbody>\n",
              "</table>\n",
              "</div>\n",
              "    <div class=\"colab-df-buttons\">\n",
              "\n",
              "  <div class=\"colab-df-container\">\n",
              "    <button class=\"colab-df-convert\" onclick=\"convertToInteractive('df-af6acc06-c23f-42d8-a615-1f36974c0461')\"\n",
              "            title=\"Convert this dataframe to an interactive table.\"\n",
              "            style=\"display:none;\">\n",
              "\n",
              "  <svg xmlns=\"http://www.w3.org/2000/svg\" height=\"24px\" viewBox=\"0 -960 960 960\">\n",
              "    <path d=\"M120-120v-720h720v720H120Zm60-500h600v-160H180v160Zm220 220h160v-160H400v160Zm0 220h160v-160H400v160ZM180-400h160v-160H180v160Zm440 0h160v-160H620v160ZM180-180h160v-160H180v160Zm440 0h160v-160H620v160Z\"/>\n",
              "  </svg>\n",
              "    </button>\n",
              "\n",
              "  <style>\n",
              "    .colab-df-container {\n",
              "      display:flex;\n",
              "      gap: 12px;\n",
              "    }\n",
              "\n",
              "    .colab-df-convert {\n",
              "      background-color: #E8F0FE;\n",
              "      border: none;\n",
              "      border-radius: 50%;\n",
              "      cursor: pointer;\n",
              "      display: none;\n",
              "      fill: #1967D2;\n",
              "      height: 32px;\n",
              "      padding: 0 0 0 0;\n",
              "      width: 32px;\n",
              "    }\n",
              "\n",
              "    .colab-df-convert:hover {\n",
              "      background-color: #E2EBFA;\n",
              "      box-shadow: 0px 1px 2px rgba(60, 64, 67, 0.3), 0px 1px 3px 1px rgba(60, 64, 67, 0.15);\n",
              "      fill: #174EA6;\n",
              "    }\n",
              "\n",
              "    .colab-df-buttons div {\n",
              "      margin-bottom: 4px;\n",
              "    }\n",
              "\n",
              "    [theme=dark] .colab-df-convert {\n",
              "      background-color: #3B4455;\n",
              "      fill: #D2E3FC;\n",
              "    }\n",
              "\n",
              "    [theme=dark] .colab-df-convert:hover {\n",
              "      background-color: #434B5C;\n",
              "      box-shadow: 0px 1px 3px 1px rgba(0, 0, 0, 0.15);\n",
              "      filter: drop-shadow(0px 1px 2px rgba(0, 0, 0, 0.3));\n",
              "      fill: #FFFFFF;\n",
              "    }\n",
              "  </style>\n",
              "\n",
              "    <script>\n",
              "      const buttonEl =\n",
              "        document.querySelector('#df-af6acc06-c23f-42d8-a615-1f36974c0461 button.colab-df-convert');\n",
              "      buttonEl.style.display =\n",
              "        google.colab.kernel.accessAllowed ? 'block' : 'none';\n",
              "\n",
              "      async function convertToInteractive(key) {\n",
              "        const element = document.querySelector('#df-af6acc06-c23f-42d8-a615-1f36974c0461');\n",
              "        const dataTable =\n",
              "          await google.colab.kernel.invokeFunction('convertToInteractive',\n",
              "                                                    [key], {});\n",
              "        if (!dataTable) return;\n",
              "\n",
              "        const docLinkHtml = 'Like what you see? Visit the ' +\n",
              "          '<a target=\"_blank\" href=https://colab.research.google.com/notebooks/data_table.ipynb>data table notebook</a>'\n",
              "          + ' to learn more about interactive tables.';\n",
              "        element.innerHTML = '';\n",
              "        dataTable['output_type'] = 'display_data';\n",
              "        await google.colab.output.renderOutput(dataTable, element);\n",
              "        const docLink = document.createElement('div');\n",
              "        docLink.innerHTML = docLinkHtml;\n",
              "        element.appendChild(docLink);\n",
              "      }\n",
              "    </script>\n",
              "  </div>\n",
              "\n",
              "\n",
              "    <div id=\"df-e35de2cd-f6da-409f-ac83-25dae2eeeeca\">\n",
              "      <button class=\"colab-df-quickchart\" onclick=\"quickchart('df-e35de2cd-f6da-409f-ac83-25dae2eeeeca')\"\n",
              "                title=\"Suggest charts\"\n",
              "                style=\"display:none;\">\n",
              "\n",
              "<svg xmlns=\"http://www.w3.org/2000/svg\" height=\"24px\"viewBox=\"0 0 24 24\"\n",
              "     width=\"24px\">\n",
              "    <g>\n",
              "        <path d=\"M19 3H5c-1.1 0-2 .9-2 2v14c0 1.1.9 2 2 2h14c1.1 0 2-.9 2-2V5c0-1.1-.9-2-2-2zM9 17H7v-7h2v7zm4 0h-2V7h2v10zm4 0h-2v-4h2v4z\"/>\n",
              "    </g>\n",
              "</svg>\n",
              "      </button>\n",
              "\n",
              "<style>\n",
              "  .colab-df-quickchart {\n",
              "      --bg-color: #E8F0FE;\n",
              "      --fill-color: #1967D2;\n",
              "      --hover-bg-color: #E2EBFA;\n",
              "      --hover-fill-color: #174EA6;\n",
              "      --disabled-fill-color: #AAA;\n",
              "      --disabled-bg-color: #DDD;\n",
              "  }\n",
              "\n",
              "  [theme=dark] .colab-df-quickchart {\n",
              "      --bg-color: #3B4455;\n",
              "      --fill-color: #D2E3FC;\n",
              "      --hover-bg-color: #434B5C;\n",
              "      --hover-fill-color: #FFFFFF;\n",
              "      --disabled-bg-color: #3B4455;\n",
              "      --disabled-fill-color: #666;\n",
              "  }\n",
              "\n",
              "  .colab-df-quickchart {\n",
              "    background-color: var(--bg-color);\n",
              "    border: none;\n",
              "    border-radius: 50%;\n",
              "    cursor: pointer;\n",
              "    display: none;\n",
              "    fill: var(--fill-color);\n",
              "    height: 32px;\n",
              "    padding: 0;\n",
              "    width: 32px;\n",
              "  }\n",
              "\n",
              "  .colab-df-quickchart:hover {\n",
              "    background-color: var(--hover-bg-color);\n",
              "    box-shadow: 0 1px 2px rgba(60, 64, 67, 0.3), 0 1px 3px 1px rgba(60, 64, 67, 0.15);\n",
              "    fill: var(--button-hover-fill-color);\n",
              "  }\n",
              "\n",
              "  .colab-df-quickchart-complete:disabled,\n",
              "  .colab-df-quickchart-complete:disabled:hover {\n",
              "    background-color: var(--disabled-bg-color);\n",
              "    fill: var(--disabled-fill-color);\n",
              "    box-shadow: none;\n",
              "  }\n",
              "\n",
              "  .colab-df-spinner {\n",
              "    border: 2px solid var(--fill-color);\n",
              "    border-color: transparent;\n",
              "    border-bottom-color: var(--fill-color);\n",
              "    animation:\n",
              "      spin 1s steps(1) infinite;\n",
              "  }\n",
              "\n",
              "  @keyframes spin {\n",
              "    0% {\n",
              "      border-color: transparent;\n",
              "      border-bottom-color: var(--fill-color);\n",
              "      border-left-color: var(--fill-color);\n",
              "    }\n",
              "    20% {\n",
              "      border-color: transparent;\n",
              "      border-left-color: var(--fill-color);\n",
              "      border-top-color: var(--fill-color);\n",
              "    }\n",
              "    30% {\n",
              "      border-color: transparent;\n",
              "      border-left-color: var(--fill-color);\n",
              "      border-top-color: var(--fill-color);\n",
              "      border-right-color: var(--fill-color);\n",
              "    }\n",
              "    40% {\n",
              "      border-color: transparent;\n",
              "      border-right-color: var(--fill-color);\n",
              "      border-top-color: var(--fill-color);\n",
              "    }\n",
              "    60% {\n",
              "      border-color: transparent;\n",
              "      border-right-color: var(--fill-color);\n",
              "    }\n",
              "    80% {\n",
              "      border-color: transparent;\n",
              "      border-right-color: var(--fill-color);\n",
              "      border-bottom-color: var(--fill-color);\n",
              "    }\n",
              "    90% {\n",
              "      border-color: transparent;\n",
              "      border-bottom-color: var(--fill-color);\n",
              "    }\n",
              "  }\n",
              "</style>\n",
              "\n",
              "      <script>\n",
              "        async function quickchart(key) {\n",
              "          const quickchartButtonEl =\n",
              "            document.querySelector('#' + key + ' button');\n",
              "          quickchartButtonEl.disabled = true;  // To prevent multiple clicks.\n",
              "          quickchartButtonEl.classList.add('colab-df-spinner');\n",
              "          try {\n",
              "            const charts = await google.colab.kernel.invokeFunction(\n",
              "                'suggestCharts', [key], {});\n",
              "          } catch (error) {\n",
              "            console.error('Error during call to suggestCharts:', error);\n",
              "          }\n",
              "          quickchartButtonEl.classList.remove('colab-df-spinner');\n",
              "          quickchartButtonEl.classList.add('colab-df-quickchart-complete');\n",
              "        }\n",
              "        (() => {\n",
              "          let quickchartButtonEl =\n",
              "            document.querySelector('#df-e35de2cd-f6da-409f-ac83-25dae2eeeeca button');\n",
              "          quickchartButtonEl.style.display =\n",
              "            google.colab.kernel.accessAllowed ? 'block' : 'none';\n",
              "        })();\n",
              "      </script>\n",
              "    </div>\n",
              "\n",
              "    </div>\n",
              "  </div>\n"
            ],
            "application/vnd.google.colaboratory.intrinsic+json": {
              "type": "dataframe",
              "summary": "{\n  \"name\": \"plot(initial_temp)\",\n  \"rows\": 5,\n  \"fields\": [\n    {\n      \"column\": \"valid_time\",\n      \"properties\": {\n        \"dtype\": \"date\",\n        \"min\": \"2022-01-01 03:00:00\",\n        \"max\": \"2022-01-01 03:00:00\",\n        \"num_unique_values\": 1,\n        \"samples\": [\n          \"2022-01-01 03:00:00\"\n        ],\n        \"semantic_type\": \"\",\n        \"description\": \"\"\n      }\n    },\n    {\n      \"column\": \"latitude\",\n      \"properties\": {\n        \"dtype\": \"number\",\n        \"std\": 0.0,\n        \"min\": 41.0,\n        \"max\": 41.0,\n        \"num_unique_values\": 1,\n        \"samples\": [\n          41.0\n        ],\n        \"semantic_type\": \"\",\n        \"description\": \"\"\n      }\n    },\n    {\n      \"column\": \"longitude\",\n      \"properties\": {\n        \"dtype\": \"number\",\n        \"std\": 0.7905694150420949,\n        \"min\": -109.0,\n        \"max\": -107.0,\n        \"num_unique_values\": 5,\n        \"samples\": [\n          -108.5\n        ],\n        \"semantic_type\": \"\",\n        \"description\": \"\"\n      }\n    },\n    {\n      \"column\": \"u10\",\n      \"properties\": {\n        \"dtype\": \"number\",\n        \"std\": 0.8264434915597407,\n        \"min\": -1.1795654,\n        \"max\": 0.694458,\n        \"num_unique_values\": 5,\n        \"samples\": [\n          0.49816895\n        ],\n        \"semantic_type\": \"\",\n        \"description\": \"\"\n      }\n    },\n    {\n      \"column\": \"v10\",\n      \"properties\": {\n        \"dtype\": \"number\",\n        \"std\": 0.525699391578408,\n        \"min\": -0.1031189,\n        \"max\": 1.2123108,\n        \"num_unique_values\": 5,\n        \"samples\": [\n          0.36465454\n        ],\n        \"semantic_type\": \"\",\n        \"description\": \"\"\n      }\n    },\n    {\n      \"column\": \"surface_dewpoint\",\n      \"properties\": {\n        \"dtype\": \"number\",\n        \"std\": 1.0639056566350453,\n        \"min\": 258.49884,\n        \"max\": 261.02032,\n        \"num_unique_values\": 5,\n        \"samples\": [\n          260.49298\n        ],\n        \"semantic_type\": \"\",\n        \"description\": \"\"\n      }\n    },\n    {\n      \"column\": \"surface_temperature\",\n      \"properties\": {\n        \"dtype\": \"number\",\n        \"std\": 0.8371214101789503,\n        \"min\": 260.3833,\n        \"max\": 262.4458,\n        \"num_unique_values\": 5,\n        \"samples\": [\n          261.9458\n        ],\n        \"semantic_type\": \"\",\n        \"description\": \"\"\n      }\n    },\n    {\n      \"column\": \"surface_pressure\",\n      \"properties\": {\n        \"dtype\": \"number\",\n        \"std\": 1840.7562304661635,\n        \"min\": 73532.0,\n        \"max\": 77910.0,\n        \"num_unique_values\": 5,\n        \"samples\": [\n          77910.0\n        ],\n        \"semantic_type\": \"\",\n        \"description\": \"\"\n      }\n    },\n    {\n      \"column\": \"u10n\",\n      \"properties\": {\n        \"dtype\": \"number\",\n        \"std\": 0.4366738361556156,\n        \"min\": -0.68226624,\n        \"max\": 0.22398376,\n        \"num_unique_values\": 5,\n        \"samples\": [\n          0.17027283\n        ],\n        \"semantic_type\": \"\",\n        \"description\": \"\"\n      }\n    },\n    {\n      \"column\": \"v10n\",\n      \"properties\": {\n        \"dtype\": \"number\",\n        \"std\": 0.3439635567101936,\n        \"min\": 0.018707275,\n        \"max\": 0.76675415,\n        \"num_unique_values\": 5,\n        \"samples\": [\n          0.116363525\n        ],\n        \"semantic_type\": \"\",\n        \"description\": \"\"\n      }\n    }\n  ]\n}"
            }
          },
          "metadata": {}
        },
        {
          "output_type": "display_data",
          "data": {
            "text/plain": [
              "                valid_time  latitude  longitude       u10       v10  \\\n",
              "44823  2022-03-25 03:00:00      41.0     -107.5 -0.174744  1.760712   \n",
              "2266   2022-01-05 03:00:00      37.5     -108.5 -0.914658 -0.510742   \n",
              "77895  2022-05-25 09:00:00      41.0     -109.0  0.972885 -0.805618   \n",
              "134572 2022-09-07 03:00:00      37.5     -105.5 -1.642929  0.869400   \n",
              "71059  2022-05-12 15:00:00      39.5     -107.0  4.492264  2.810837   \n",
              "\n",
              "        surface_dewpoint  surface_temperature  surface_pressure      u10n  \\\n",
              "44823          269.31372            274.34520          77661.44  0.036697   \n",
              "2266           262.20117            266.45532          78367.19 -0.451141   \n",
              "77895          268.81738            276.64038          78832.94  0.261307   \n",
              "134572         278.10352            289.40283          74784.06 -0.476227   \n",
              "71059          262.27002            274.18140          72429.25  4.519379   \n",
              "\n",
              "            v10n  \n",
              "44823   0.802505  \n",
              "2266   -0.442108  \n",
              "77895  -0.204178  \n",
              "134572  0.285019  \n",
              "71059   2.827820  "
            ],
            "text/html": [
              "\n",
              "  <div id=\"df-d6f3e911-0b2d-43a1-a791-45f71ec5f351\" class=\"colab-df-container\">\n",
              "    <div>\n",
              "<style scoped>\n",
              "    .dataframe tbody tr th:only-of-type {\n",
              "        vertical-align: middle;\n",
              "    }\n",
              "\n",
              "    .dataframe tbody tr th {\n",
              "        vertical-align: top;\n",
              "    }\n",
              "\n",
              "    .dataframe thead th {\n",
              "        text-align: right;\n",
              "    }\n",
              "</style>\n",
              "<table border=\"1\" class=\"dataframe\">\n",
              "  <thead>\n",
              "    <tr style=\"text-align: right;\">\n",
              "      <th></th>\n",
              "      <th>valid_time</th>\n",
              "      <th>latitude</th>\n",
              "      <th>longitude</th>\n",
              "      <th>u10</th>\n",
              "      <th>v10</th>\n",
              "      <th>surface_dewpoint</th>\n",
              "      <th>surface_temperature</th>\n",
              "      <th>surface_pressure</th>\n",
              "      <th>u10n</th>\n",
              "      <th>v10n</th>\n",
              "    </tr>\n",
              "  </thead>\n",
              "  <tbody>\n",
              "    <tr>\n",
              "      <th>44823</th>\n",
              "      <td>2022-03-25 03:00:00</td>\n",
              "      <td>41.0</td>\n",
              "      <td>-107.5</td>\n",
              "      <td>-0.174744</td>\n",
              "      <td>1.760712</td>\n",
              "      <td>269.31372</td>\n",
              "      <td>274.34520</td>\n",
              "      <td>77661.44</td>\n",
              "      <td>0.036697</td>\n",
              "      <td>0.802505</td>\n",
              "    </tr>\n",
              "    <tr>\n",
              "      <th>2266</th>\n",
              "      <td>2022-01-05 03:00:00</td>\n",
              "      <td>37.5</td>\n",
              "      <td>-108.5</td>\n",
              "      <td>-0.914658</td>\n",
              "      <td>-0.510742</td>\n",
              "      <td>262.20117</td>\n",
              "      <td>266.45532</td>\n",
              "      <td>78367.19</td>\n",
              "      <td>-0.451141</td>\n",
              "      <td>-0.442108</td>\n",
              "    </tr>\n",
              "    <tr>\n",
              "      <th>77895</th>\n",
              "      <td>2022-05-25 09:00:00</td>\n",
              "      <td>41.0</td>\n",
              "      <td>-109.0</td>\n",
              "      <td>0.972885</td>\n",
              "      <td>-0.805618</td>\n",
              "      <td>268.81738</td>\n",
              "      <td>276.64038</td>\n",
              "      <td>78832.94</td>\n",
              "      <td>0.261307</td>\n",
              "      <td>-0.204178</td>\n",
              "    </tr>\n",
              "    <tr>\n",
              "      <th>134572</th>\n",
              "      <td>2022-09-07 03:00:00</td>\n",
              "      <td>37.5</td>\n",
              "      <td>-105.5</td>\n",
              "      <td>-1.642929</td>\n",
              "      <td>0.869400</td>\n",
              "      <td>278.10352</td>\n",
              "      <td>289.40283</td>\n",
              "      <td>74784.06</td>\n",
              "      <td>-0.476227</td>\n",
              "      <td>0.285019</td>\n",
              "    </tr>\n",
              "    <tr>\n",
              "      <th>71059</th>\n",
              "      <td>2022-05-12 15:00:00</td>\n",
              "      <td>39.5</td>\n",
              "      <td>-107.0</td>\n",
              "      <td>4.492264</td>\n",
              "      <td>2.810837</td>\n",
              "      <td>262.27002</td>\n",
              "      <td>274.18140</td>\n",
              "      <td>72429.25</td>\n",
              "      <td>4.519379</td>\n",
              "      <td>2.827820</td>\n",
              "    </tr>\n",
              "  </tbody>\n",
              "</table>\n",
              "</div>\n",
              "    <div class=\"colab-df-buttons\">\n",
              "\n",
              "  <div class=\"colab-df-container\">\n",
              "    <button class=\"colab-df-convert\" onclick=\"convertToInteractive('df-d6f3e911-0b2d-43a1-a791-45f71ec5f351')\"\n",
              "            title=\"Convert this dataframe to an interactive table.\"\n",
              "            style=\"display:none;\">\n",
              "\n",
              "  <svg xmlns=\"http://www.w3.org/2000/svg\" height=\"24px\" viewBox=\"0 -960 960 960\">\n",
              "    <path d=\"M120-120v-720h720v720H120Zm60-500h600v-160H180v160Zm220 220h160v-160H400v160Zm0 220h160v-160H400v160ZM180-400h160v-160H180v160Zm440 0h160v-160H620v160ZM180-180h160v-160H180v160Zm440 0h160v-160H620v160Z\"/>\n",
              "  </svg>\n",
              "    </button>\n",
              "\n",
              "  <style>\n",
              "    .colab-df-container {\n",
              "      display:flex;\n",
              "      gap: 12px;\n",
              "    }\n",
              "\n",
              "    .colab-df-convert {\n",
              "      background-color: #E8F0FE;\n",
              "      border: none;\n",
              "      border-radius: 50%;\n",
              "      cursor: pointer;\n",
              "      display: none;\n",
              "      fill: #1967D2;\n",
              "      height: 32px;\n",
              "      padding: 0 0 0 0;\n",
              "      width: 32px;\n",
              "    }\n",
              "\n",
              "    .colab-df-convert:hover {\n",
              "      background-color: #E2EBFA;\n",
              "      box-shadow: 0px 1px 2px rgba(60, 64, 67, 0.3), 0px 1px 3px 1px rgba(60, 64, 67, 0.15);\n",
              "      fill: #174EA6;\n",
              "    }\n",
              "\n",
              "    .colab-df-buttons div {\n",
              "      margin-bottom: 4px;\n",
              "    }\n",
              "\n",
              "    [theme=dark] .colab-df-convert {\n",
              "      background-color: #3B4455;\n",
              "      fill: #D2E3FC;\n",
              "    }\n",
              "\n",
              "    [theme=dark] .colab-df-convert:hover {\n",
              "      background-color: #434B5C;\n",
              "      box-shadow: 0px 1px 3px 1px rgba(0, 0, 0, 0.15);\n",
              "      filter: drop-shadow(0px 1px 2px rgba(0, 0, 0, 0.3));\n",
              "      fill: #FFFFFF;\n",
              "    }\n",
              "  </style>\n",
              "\n",
              "    <script>\n",
              "      const buttonEl =\n",
              "        document.querySelector('#df-d6f3e911-0b2d-43a1-a791-45f71ec5f351 button.colab-df-convert');\n",
              "      buttonEl.style.display =\n",
              "        google.colab.kernel.accessAllowed ? 'block' : 'none';\n",
              "\n",
              "      async function convertToInteractive(key) {\n",
              "        const element = document.querySelector('#df-d6f3e911-0b2d-43a1-a791-45f71ec5f351');\n",
              "        const dataTable =\n",
              "          await google.colab.kernel.invokeFunction('convertToInteractive',\n",
              "                                                    [key], {});\n",
              "        if (!dataTable) return;\n",
              "\n",
              "        const docLinkHtml = 'Like what you see? Visit the ' +\n",
              "          '<a target=\"_blank\" href=https://colab.research.google.com/notebooks/data_table.ipynb>data table notebook</a>'\n",
              "          + ' to learn more about interactive tables.';\n",
              "        element.innerHTML = '';\n",
              "        dataTable['output_type'] = 'display_data';\n",
              "        await google.colab.output.renderOutput(dataTable, element);\n",
              "        const docLink = document.createElement('div');\n",
              "        docLink.innerHTML = docLinkHtml;\n",
              "        element.appendChild(docLink);\n",
              "      }\n",
              "    </script>\n",
              "  </div>\n",
              "\n",
              "\n",
              "    <div id=\"df-7786f33e-ba0f-4415-a7ae-894ef81ae48a\">\n",
              "      <button class=\"colab-df-quickchart\" onclick=\"quickchart('df-7786f33e-ba0f-4415-a7ae-894ef81ae48a')\"\n",
              "                title=\"Suggest charts\"\n",
              "                style=\"display:none;\">\n",
              "\n",
              "<svg xmlns=\"http://www.w3.org/2000/svg\" height=\"24px\"viewBox=\"0 0 24 24\"\n",
              "     width=\"24px\">\n",
              "    <g>\n",
              "        <path d=\"M19 3H5c-1.1 0-2 .9-2 2v14c0 1.1.9 2 2 2h14c1.1 0 2-.9 2-2V5c0-1.1-.9-2-2-2zM9 17H7v-7h2v7zm4 0h-2V7h2v10zm4 0h-2v-4h2v4z\"/>\n",
              "    </g>\n",
              "</svg>\n",
              "      </button>\n",
              "\n",
              "<style>\n",
              "  .colab-df-quickchart {\n",
              "      --bg-color: #E8F0FE;\n",
              "      --fill-color: #1967D2;\n",
              "      --hover-bg-color: #E2EBFA;\n",
              "      --hover-fill-color: #174EA6;\n",
              "      --disabled-fill-color: #AAA;\n",
              "      --disabled-bg-color: #DDD;\n",
              "  }\n",
              "\n",
              "  [theme=dark] .colab-df-quickchart {\n",
              "      --bg-color: #3B4455;\n",
              "      --fill-color: #D2E3FC;\n",
              "      --hover-bg-color: #434B5C;\n",
              "      --hover-fill-color: #FFFFFF;\n",
              "      --disabled-bg-color: #3B4455;\n",
              "      --disabled-fill-color: #666;\n",
              "  }\n",
              "\n",
              "  .colab-df-quickchart {\n",
              "    background-color: var(--bg-color);\n",
              "    border: none;\n",
              "    border-radius: 50%;\n",
              "    cursor: pointer;\n",
              "    display: none;\n",
              "    fill: var(--fill-color);\n",
              "    height: 32px;\n",
              "    padding: 0;\n",
              "    width: 32px;\n",
              "  }\n",
              "\n",
              "  .colab-df-quickchart:hover {\n",
              "    background-color: var(--hover-bg-color);\n",
              "    box-shadow: 0 1px 2px rgba(60, 64, 67, 0.3), 0 1px 3px 1px rgba(60, 64, 67, 0.15);\n",
              "    fill: var(--button-hover-fill-color);\n",
              "  }\n",
              "\n",
              "  .colab-df-quickchart-complete:disabled,\n",
              "  .colab-df-quickchart-complete:disabled:hover {\n",
              "    background-color: var(--disabled-bg-color);\n",
              "    fill: var(--disabled-fill-color);\n",
              "    box-shadow: none;\n",
              "  }\n",
              "\n",
              "  .colab-df-spinner {\n",
              "    border: 2px solid var(--fill-color);\n",
              "    border-color: transparent;\n",
              "    border-bottom-color: var(--fill-color);\n",
              "    animation:\n",
              "      spin 1s steps(1) infinite;\n",
              "  }\n",
              "\n",
              "  @keyframes spin {\n",
              "    0% {\n",
              "      border-color: transparent;\n",
              "      border-bottom-color: var(--fill-color);\n",
              "      border-left-color: var(--fill-color);\n",
              "    }\n",
              "    20% {\n",
              "      border-color: transparent;\n",
              "      border-left-color: var(--fill-color);\n",
              "      border-top-color: var(--fill-color);\n",
              "    }\n",
              "    30% {\n",
              "      border-color: transparent;\n",
              "      border-left-color: var(--fill-color);\n",
              "      border-top-color: var(--fill-color);\n",
              "      border-right-color: var(--fill-color);\n",
              "    }\n",
              "    40% {\n",
              "      border-color: transparent;\n",
              "      border-right-color: var(--fill-color);\n",
              "      border-top-color: var(--fill-color);\n",
              "    }\n",
              "    60% {\n",
              "      border-color: transparent;\n",
              "      border-right-color: var(--fill-color);\n",
              "    }\n",
              "    80% {\n",
              "      border-color: transparent;\n",
              "      border-right-color: var(--fill-color);\n",
              "      border-bottom-color: var(--fill-color);\n",
              "    }\n",
              "    90% {\n",
              "      border-color: transparent;\n",
              "      border-bottom-color: var(--fill-color);\n",
              "    }\n",
              "  }\n",
              "</style>\n",
              "\n",
              "      <script>\n",
              "        async function quickchart(key) {\n",
              "          const quickchartButtonEl =\n",
              "            document.querySelector('#' + key + ' button');\n",
              "          quickchartButtonEl.disabled = true;  // To prevent multiple clicks.\n",
              "          quickchartButtonEl.classList.add('colab-df-spinner');\n",
              "          try {\n",
              "            const charts = await google.colab.kernel.invokeFunction(\n",
              "                'suggestCharts', [key], {});\n",
              "          } catch (error) {\n",
              "            console.error('Error during call to suggestCharts:', error);\n",
              "          }\n",
              "          quickchartButtonEl.classList.remove('colab-df-spinner');\n",
              "          quickchartButtonEl.classList.add('colab-df-quickchart-complete');\n",
              "        }\n",
              "        (() => {\n",
              "          let quickchartButtonEl =\n",
              "            document.querySelector('#df-7786f33e-ba0f-4415-a7ae-894ef81ae48a button');\n",
              "          quickchartButtonEl.style.display =\n",
              "            google.colab.kernel.accessAllowed ? 'block' : 'none';\n",
              "        })();\n",
              "      </script>\n",
              "    </div>\n",
              "\n",
              "    </div>\n",
              "  </div>\n"
            ],
            "application/vnd.google.colaboratory.intrinsic+json": {
              "type": "dataframe",
              "summary": "{\n  \"name\": \"plot(initial_temp)\",\n  \"rows\": 5,\n  \"fields\": [\n    {\n      \"column\": \"valid_time\",\n      \"properties\": {\n        \"dtype\": \"date\",\n        \"min\": \"2022-01-05 03:00:00\",\n        \"max\": \"2022-09-07 03:00:00\",\n        \"num_unique_values\": 5,\n        \"samples\": [\n          \"2022-01-05 03:00:00\",\n          \"2022-05-12 15:00:00\",\n          \"2022-05-25 09:00:00\"\n        ],\n        \"semantic_type\": \"\",\n        \"description\": \"\"\n      }\n    },\n    {\n      \"column\": \"latitude\",\n      \"properties\": {\n        \"dtype\": \"number\",\n        \"std\": 1.753567791675018,\n        \"min\": 37.5,\n        \"max\": 41.0,\n        \"num_unique_values\": 3,\n        \"samples\": [\n          41.0,\n          37.5,\n          39.5\n        ],\n        \"semantic_type\": \"\",\n        \"description\": \"\"\n      }\n    },\n    {\n      \"column\": \"longitude\",\n      \"properties\": {\n        \"dtype\": \"number\",\n        \"std\": 1.3693063937629153,\n        \"min\": -109.0,\n        \"max\": -105.5,\n        \"num_unique_values\": 5,\n        \"samples\": [\n          -108.5,\n          -107.0,\n          -109.0\n        ],\n        \"semantic_type\": \"\",\n        \"description\": \"\"\n      }\n    },\n    {\n      \"column\": \"u10\",\n      \"properties\": {\n        \"dtype\": \"number\",\n        \"std\": 2.4082997903649197,\n        \"min\": -1.6429291,\n        \"max\": 4.492264,\n        \"num_unique_values\": 5,\n        \"samples\": [\n          -0.9146576,\n          4.492264,\n          0.97288513\n        ],\n        \"semantic_type\": \"\",\n        \"description\": \"\"\n      }\n    },\n    {\n      \"column\": \"v10\",\n      \"properties\": {\n        \"dtype\": \"number\",\n        \"std\": 1.5218573169780125,\n        \"min\": -0.8056183,\n        \"max\": 2.8108368,\n        \"num_unique_values\": 5,\n        \"samples\": [\n          -0.5107422,\n          2.8108368,\n          -0.8056183\n        ],\n        \"semantic_type\": \"\",\n        \"description\": \"\"\n      }\n    },\n    {\n      \"column\": \"surface_dewpoint\",\n      \"properties\": {\n        \"dtype\": \"number\",\n        \"std\": 6.535184643743441,\n        \"min\": 262.20117,\n        \"max\": 278.10352,\n        \"num_unique_values\": 5,\n        \"samples\": [\n          262.20117,\n          262.27002,\n          268.81738\n        ],\n        \"semantic_type\": \"\",\n        \"description\": \"\"\n      }\n    },\n    {\n      \"column\": \"surface_temperature\",\n      \"properties\": {\n        \"dtype\": \"number\",\n        \"std\": 8.321393296082102,\n        \"min\": 266.45532,\n        \"max\": 289.40283,\n        \"num_unique_values\": 5,\n        \"samples\": [\n          266.45532,\n          274.1814,\n          276.64038\n        ],\n        \"semantic_type\": \"\",\n        \"description\": \"\"\n      }\n    },\n    {\n      \"column\": \"surface_pressure\",\n      \"properties\": {\n        \"dtype\": \"number\",\n        \"std\": 2727.5108000024507,\n        \"min\": 72429.25,\n        \"max\": 78832.94,\n        \"num_unique_values\": 5,\n        \"samples\": [\n          78367.19,\n          72429.25,\n          78832.94\n        ],\n        \"semantic_type\": \"\",\n        \"description\": \"\"\n      }\n    },\n    {\n      \"column\": \"u10n\",\n      \"properties\": {\n        \"dtype\": \"number\",\n        \"std\": 2.1153184980217015,\n        \"min\": -0.4762268,\n        \"max\": 4.5193787,\n        \"num_unique_values\": 5,\n        \"samples\": [\n          -0.45114136,\n          4.5193787,\n          0.26130676\n        ],\n        \"semantic_type\": \"\",\n        \"description\": \"\"\n      }\n    },\n    {\n      \"column\": \"v10n\",\n      \"properties\": {\n        \"dtype\": \"number\",\n        \"std\": 1.3059111361705644,\n        \"min\": -0.44210815,\n        \"max\": 2.8278198,\n        \"num_unique_values\": 5,\n        \"samples\": [\n          -0.44210815,\n          2.8278198,\n          -0.20417786\n        ],\n        \"semantic_type\": \"\",\n        \"description\": \"\"\n      }\n    }\n  ]\n}"
            }
          },
          "metadata": {}
        },
        {
          "output_type": "display_data",
          "data": {
            "text/plain": [
              "<Figure size 640x480 with 2 Axes>"
            ],
            "image/png": "[encoded data removed]"
          },
          "metadata": {}
        }
      ],
      "source": [
        "df = pd.read_csv('data2022/accum_data.csv')\n",
        "df.valid_time = df.valid_time.astype('datetime64[s]')\n",
        "\n",
        "W = len(df.longitude.unique())\n",
        "H = len(df.latitude.unique())\n",
        "T = len(df.valid_time.unique())\n",
        "extent = (df.longitude.min(), df.longitude.max(), df.latitude.min(), df.latitude.max())\n",
        "\n",
        "display(df.head())\n",
        "display(df.sample(5))\n",
        "initial_temp = (df[df.valid_time=='2022-01-01 3:00:00']\n",
        "                .pivot(index='latitude',columns='longitude',\n",
        "                       values='surface_temperature')\n",
        "                .sort_index(ascending=False)\n",
        "               )\n",
        "def plot(data, label='Temperature (°K)', title=None):\n",
        "  plt.imshow(data, aspect=W/H, extent=extent, cmap='coolwarm')  # or 'viridis' if you prefer\n",
        "  plt.colorbar(label=label)\n",
        "  if title:\n",
        "      plt.title(title)\n",
        "  #plt.xlabel(None)\n",
        "  #plt.ylabel(None)\n",
        "  plt.show()\n",
        "plot(initial_temp)"
      ]
    },
    {
      "cell_type": "markdown",
      "id": "61aa18d3-8b2e-4d3e-88b2-6394dba01685",
      "metadata": {
        "id": "61aa18d3-8b2e-4d3e-88b2-6394dba01685"
      },
      "source": [
        "Nice! next up, a neural operator will benefit from knowing the coordinates of it's data, including time. Let's make a float-valued time that a NO can understand:"
      ]
    },
    {
      "cell_type": "code",
      "execution_count": null,
      "id": "19c320c6-1ba9-4be1-8171-66455b42ba4b",
      "metadata": {
        "tags": [],
        "colab": {
          "base_uri": "https://localhost:8080/"
        },
        "id": "19c320c6-1ba9-4be1-8171-66455b42ba4b",
        "outputId": "2576cfc8-eb18-4fd8-d114-f995e324bd6f"
      },
      "outputs": [
        {
          "output_type": "execute_result",
          "data": {
            "text/plain": [
              "array([0.000e+00, 1.000e+00, 2.000e+00, ..., 1.457e+03, 1.458e+03,\n",
              "       1.459e+03])"
            ]
          },
          "metadata": {},
          "execution_count": 19
        }
      ],
      "source": [
        "# Assign each time a timestep float\n",
        "times = df['valid_time'].sort_values().unique()\n",
        "dt = times[1]-times[0] # The model will see a day that is 24H/dt ticks long\n",
        "df['time'] = (df['valid_time']-times[0])/dt\n",
        "(times-times[0])/dt"
      ]
    },
    {
      "cell_type": "code",
      "execution_count": null,
      "id": "8fbbb09d-2f7a-4177-ace3-b84739300aeb",
      "metadata": {
        "tags": [],
        "colab": {
          "base_uri": "https://localhost:8080/"
        },
        "id": "8fbbb09d-2f7a-4177-ace3-b84739300aeb",
        "outputId": "cb1ceff0-33dc-48e6-906f-35b101396c8f"
      },
      "outputs": [
        {
          "output_type": "stream",
          "name": "stdout",
          "text": [
            "data_array.shape = (1460, 9, 15, 10) = (T, H, W, C)\n"
          ]
        }
      ],
      "source": [
        "# Re-package everything into 3d data\n",
        "\n",
        "# Drop valid_time and move all coordinate channels to the end as the model expects: (there's definitely a more elegant way to do this..)\n",
        "channels = list(df.columns.drop(['valid_time', 'latitude', 'longitude']))+['latitude','longitude']\n",
        "C = len(channels)\n",
        "data_array = (df[channels]\n",
        "              .sort_values(['time', 'latitude', 'longitude'])\n",
        "              .values\n",
        "              .reshape([T,H,W,C])\n",
        "             )\n",
        "print(f'{data_array.shape = } = (T, H, W, C)')"
      ]
    },
    {
      "cell_type": "markdown",
      "id": "9df60f12-80b7-4829-aa57-10350395b169",
      "metadata": {
        "tags": [],
        "id": "9df60f12-80b7-4829-aa57-10350395b169"
      },
      "source": [
        "As a sanity check, let's show that inital temperature distribution again:"
      ]
    },
    {
      "cell_type": "code",
      "execution_count": null,
      "id": "1818ec6a-9296-4973-b6e1-8cb5880d23d7",
      "metadata": {
        "tags": [],
        "colab": {
          "base_uri": "https://localhost:8080/",
          "height": 435
        },
        "id": "1818ec6a-9296-4973-b6e1-8cb5880d23d7",
        "outputId": "273316ab-9828-49a0-fa45-90b84d3d4410"
      },
      "outputs": [
        {
          "output_type": "display_data",
          "data": {
            "text/plain": [
              "<Figure size 640x480 with 2 Axes>"
            ],
            "image/png": "[encoded data removed]"
          },
          "metadata": {}
        }
      ],
      "source": [
        "plot(data_array[0,::-1,:,3].astype(float))"
      ]
    },
    {
      "cell_type": "markdown",
      "id": "181f1d41-29b4-461c-88a0-9d51cce20a63",
      "metadata": {
        "id": "181f1d41-29b4-461c-88a0-9d51cce20a63"
      },
      "source": [
        "Looking good! Brandt, could you figure out how to add a temperature scale to this?"
      ]
    },
    {
      "cell_type": "code",
      "execution_count": null,
      "id": "b8e6fb7b-d257-42aa-946c-dba303669d48",
      "metadata": {
        "tags": [],
        "id": "b8e6fb7b-d257-42aa-946c-dba303669d48"
      },
      "outputs": [],
      "source": [
        "data = (torch.tensor(data_array, dtype=torch.float32)\n",
        "        .transpose(0,3))  # Place channels up front to appease neuralop"
      ]
    },
    {
      "cell_type": "markdown",
      "id": "0b51e9f4-0660-40a4-aeb1-01d1ec1aac57",
      "metadata": {
        "jp-MarkdownHeadingCollapsed": true,
        "tags": [],
        "id": "0b51e9f4-0660-40a4-aeb1-01d1ec1aac57"
      },
      "source": [
        "## First Run:"
      ]
    },
    {
      "cell_type": "code",
      "execution_count": null,
      "id": "e5829ab2-7c4a-4547-ba54-e366e73cf613",
      "metadata": {
        "tags": [],
        "id": "e5829ab2-7c4a-4547-ba54-e366e73cf613"
      },
      "outputs": [],
      "source": [
        "# Make some input/output pairs:\n",
        "\n",
        "# TODO apparently i was thinking in two directions at some point, this needs looked at\n",
        "\n",
        "data = data\n",
        "input_tensor = data[:,:,:,:-1]\n",
        "input_tensors = input_tensor.split(split_size=1,dim=3)"
      ]
    },
    {
      "cell_type": "code",
      "execution_count": null,
      "id": "11ea4584-d281-4ddd-b7be-0a4ad0f40fe2",
      "metadata": {
        "tags": [],
        "id": "11ea4584-d281-4ddd-b7be-0a4ad0f40fe2"
      },
      "outputs": [],
      "source": [
        "#output_tensor = data[:,:,:,1:]  # Try to predict the next timestep\n",
        "output_tensor = data[[3],:,:,1:]  # Just try to predict the next temp"
      ]
    },
    {
      "cell_type": "code",
      "execution_count": null,
      "id": "a545568d-8785-4a68-9075-1091fdf33002",
      "metadata": {
        "tags": [],
        "colab": {
          "base_uri": "https://localhost:8080/"
        },
        "id": "a545568d-8785-4a68-9075-1091fdf33002",
        "outputId": "5de35920-7d29-49de-fc51-35ea9e934451"
      },
      "outputs": [
        {
          "output_type": "stream",
          "name": "stdout",
          "text": [
            "chunks[0][1].shape = torch.Size([1, 9, 15])\n"
          ]
        },
        {
          "output_type": "execute_result",
          "data": {
            "text/plain": [
              "((tensor([1]), tensor([2])),\n",
              " (tensor([2]), tensor([3])),\n",
              " (tensor([3]), tensor([4])),\n",
              " (tensor([4]), tensor([5])),\n",
              " (tensor([5]), tensor([6])))"
            ]
          },
          "metadata": {},
          "execution_count": 43
        }
      ],
      "source": [
        "output_tensors = output_tensor.split(split_size=1,dim=3)\n",
        "\n",
        "# Split data into pairs of timesteps. Given one timestep, the model should predict the next one\n",
        "from itertools import pairwise\n",
        "chunks = map(torch.squeeze, data.split(1,dim=3))\n",
        "chunks = tuple(pairwise(chunks))\n",
        "chunks = list(zip(map((lambda x: x.squeeze(3)), input_tensor.split(1,dim=3)),\n",
        "                  map((lambda x: x.squeeze(3)), output_tensor.split(1,dim=3))))\n",
        "print(f'{chunks[0][1].shape = }')\n",
        "torch.save(chunks, 'weather_chunks.pt')\n",
        "tuple(pairwise(torch.tensor((1,2,3,4,5,6)).split(1, dim=0)))  # Illustration of split and pairwise working together"
      ]
    },
    {
      "cell_type": "code",
      "execution_count": null,
      "id": "2de33c2a",
      "metadata": {
        "colab": {
          "base_uri": "https://localhost:8080/"
        },
        "id": "2de33c2a",
        "jupyter": {
          "source_hidden": true
        },
        "outputId": "f649c19d-2596-4792-fe28-8d3c4d811703",
        "tags": []
      },
      "outputs": [
        {
          "output_type": "stream",
          "name": "stderr",
          "text": [
            "100%|██████████| 1460/1460 [00:43<00:00, 33.50it/s]\n"
          ]
        }
      ],
      "source": [
        "# Load and clean the CSV file\n",
        "df = pd.read_csv('accum_data.csv')\n",
        "\n",
        "# Grid creation\n",
        "times = sorted(df['valid_time'].unique()) # Get unique times\n",
        "\n",
        "input_vars = ['u10', 'v10', 'surface_pressure', 'u10n', 'v10n']\n",
        "output_var = 'surface_temperature'\n",
        "\n",
        "grids = []\n",
        "\n",
        "lat_vals = sorted(df['latitude'].unique()) # Unique lat\n",
        "lon_vals = sorted(df['longitude'].unique()) # Unique long\n",
        "\n",
        "H = len(lat_vals) # Height (number of latitude values)\n",
        "W = len(lon_vals)  # Width (number of longitude values)\n",
        "\n",
        "# Process the data for each time step\n",
        "for time in tqdm(times):   # tqdm(times) progress bar for visualization\n",
        "    slice_df = df[df['valid_time'] == time] # Get data for the current time step\n",
        "\n",
        "\n",
        "    # Build 2D grid for each input variable\n",
        "    input_channels = [slice_df\n",
        "                      .pivot(index='latitude', columns='longitude', values=var)\n",
        "                      .to_numpy()\n",
        "                      for var in input_vars\n",
        "                     ]\n",
        "    # for var in input_vars:\n",
        "    #     pivot = slice_df.pivot(index='latitude', columns='longitude', values=var)\n",
        "    #     grid = pivot.to_numpy() # Creates a 2D grid using pandas\n",
        "    #     input_channels.append(grid)\n",
        "\n",
        "    # Build target grid\n",
        "    target_pivot = slice_df.pivot(index='latitude', columns='longitude', values=output_var)\n",
        "    target_grid = target_pivot.to_numpy()\n",
        "\n",
        "    # Stack into tensors\n",
        "    input_tensor = torch.tensor(np.stack(input_channels), dtype=torch.float32)  # Shape: [C, H, W]  (C is the # of input variables, H is the # of lat points, and W is the # of long points)\n",
        "    target_tensor = torch.tensor(target_grid[np.newaxis, :, :], dtype=torch.float32)  # Shape: [1, H, W]\n",
        "\n",
        "    grids.append((input_tensor, target_tensor))\n",
        "\n",
        "# Save the dataset to a file\n",
        "torch.save(grids, 'weather_dataset.pt')  # List of (input, target) pairs"
      ]
    },
    {
      "cell_type": "code",
      "execution_count": null,
      "id": "0fbe66e4-ed51-4f65-b557-9f2fdfc429ae",
      "metadata": {
        "id": "0fbe66e4-ed51-4f65-b557-9f2fdfc429ae",
        "jupyter": {
          "source_hidden": true
        },
        "tags": [],
        "colab": {
          "base_uri": "https://localhost:8080/"
        },
        "outputId": "d2a2b38c-c94c-4da8-e7b5-7ad3ac5485af"
      },
      "outputs": [
        {
          "output_type": "execute_result",
          "data": {
            "text/plain": [
              "(torch.Size([5, 9, 15]), torch.Size([1, 9, 15]))"
            ]
          },
          "metadata": {},
          "execution_count": 46
        }
      ],
      "source": [
        "# Dataset Splitting\n",
        "full_dataset = WeatherTensorDataset('weather_dataset.pt')\n",
        "\n",
        "train_size = int(0.8 * len(full_dataset)) #80% for train\n",
        "test_size = len(full_dataset) - train_size\n",
        "\n",
        "train_dataset, test_dataset = torch.utils.data.random_split(full_dataset, [train_size, test_size])\n",
        "\n",
        "train_loader = DataLoader(train_dataset, batch_size=4, shuffle=True)\n",
        "test_loader = DataLoader(test_dataset, batch_size=4, shuffle=False)\n",
        "\n",
        "# Model Setup\n",
        "in_channels = 5 # # of input\n",
        "out_channels = 1 # # of output\n",
        "\n",
        "# Initialize the model\n",
        "model = FNO(n_modes=(12, 12), hidden_channels=32, in_channels=in_channels, out_channels=out_channels)\n",
        "\n",
        "# Set device to GPU if available\n",
        "device = torch.device('cuda' if torch.cuda.is_available() else 'cpu')\n",
        "model.to(device)\n",
        "\n",
        "# Initialize optimizer and scheduler\n",
        "optimizer = torch.optim.Adam(model.parameters(), lr=1e-3)  # Adam optimizer with learning rate 0.001\n",
        "scheduler = torch.optim.lr_scheduler.StepLR(optimizer, step_size=10, gamma=0.5) # Learning rate scheduler\n",
        "\n",
        "# Training Setup\n",
        "trainer = Trainer(model=model, n_epochs=2, device=device)\n",
        "\n",
        "# Wrap the test_loader in a dictionary\n",
        "test_loaders = {'test': test_loader}\n",
        "full_dataset[0]['x'].shape, full_dataset[0]['y'].shape"
      ]
    },
    {
      "cell_type": "code",
      "execution_count": null,
      "id": "714452ca-5b9c-4265-aaf2-7dc69bd91958",
      "metadata": {
        "id": "714452ca-5b9c-4265-aaf2-7dc69bd91958",
        "tags": []
      },
      "outputs": [],
      "source": [
        "# Dataset Splitting\n",
        "full_dataset = WeatherTensorDataset('weather_chunks.pt')\n",
        "full_dataset[0]['x'].shape\n",
        "\n",
        "train_size = int(0.8 * len(full_dataset)) #80% for train\n",
        "test_size = len(full_dataset) - train_size\n",
        "\n",
        "train_dataset, test_dataset = torch.utils.data.random_split(full_dataset, [train_size, test_size])\n",
        "\n",
        "train_loader = DataLoader(train_dataset, batch_size=1, shuffle=True)\n",
        "test_loader = DataLoader(test_dataset, batch_size=1, shuffle=False)\n",
        "\n",
        "# Model Setup\n",
        "in_channels = C # # of input\n",
        "out_channels = 1 # # of output\n",
        "\n",
        "# Initialize the model\n",
        "model = FNO(n_modes=(12, 12), hidden_channels=32, in_channels=in_channels, out_channels=out_channels)\n",
        "\n",
        "# Set device to GPU if available\n",
        "device = torch.device('cuda' if torch.cuda.is_available() else 'cpu')\n",
        "model.to(device)\n",
        "\n",
        "# Initialize optimizer and scheduler\n",
        "optimizer = torch.optim.Adam(model.parameters(), lr=1e-3)  # Adam optimizer with learning rate 0.001\n",
        "scheduler = torch.optim.lr_scheduler.StepLR(optimizer, step_size=10, gamma=0.5) # Learning rate scheduler\n",
        "\n",
        "# Training Setup\n",
        "trainer = Trainer(model=model, n_epochs=5, device=device, eval_interval=1, verbose=True)\n",
        "\n",
        "# Wrap the test_loader in a dictionary\n",
        "test_loaders = {'test': test_loader}"
      ]
    },
    {
      "cell_type": "code",
      "execution_count": null,
      "id": "f5378b70-efaf-4f20-84c0-40f5e7887425",
      "metadata": {
        "tags": [],
        "colab": {
          "base_uri": "https://localhost:8080/"
        },
        "id": "f5378b70-efaf-4f20-84c0-40f5e7887425",
        "outputId": "7810bafc-337e-441f-9a95-62ee337713c1"
      },
      "outputs": [
        {
          "output_type": "execute_result",
          "data": {
            "text/plain": [
              "(torch.Size([10, 9, 15]), torch.Size([1, 9, 15]))"
            ]
          },
          "metadata": {},
          "execution_count": 48
        }
      ],
      "source": [
        "train_dataset[0]['x'].shape, train_dataset[0]['y'].shape"
      ]
    },
    {
      "cell_type": "code",
      "execution_count": null,
      "id": "f1293375",
      "metadata": {
        "id": "f1293375",
        "tags": [],
        "colab": {
          "base_uri": "https://localhost:8080/"
        },
        "outputId": "c60db715-d950-4c68-c5cc-763273b799a5"
      },
      "outputs": [
        {
          "output_type": "stream",
          "name": "stdout",
          "text": [
            "Training on 1167 samples\n",
            "Testing on [292] samples         on resolutions ['test'].\n",
            "Raw outputs of shape torch.Size([1, 1, 9, 15])\n",
            "[0] time=41.97, avg_loss=0.0786, train_err=0.0786\n",
            "Eval: test_l2=0.0496\n",
            "[1] time=42.91, avg_loss=0.0577, train_err=0.0577\n",
            "Eval: test_l2=0.0534\n",
            "[2] time=43.53, avg_loss=0.0525, train_err=0.0525\n",
            "Eval: test_l2=0.0544\n",
            "[3] time=43.47, avg_loss=0.0511, train_err=0.0511\n",
            "Eval: test_l2=0.1035\n",
            "[4] time=43.17, avg_loss=0.0493, train_err=0.0493\n",
            "Eval: test_l2=0.0375\n"
          ]
        },
        {
          "output_type": "execute_result",
          "data": {
            "text/plain": [
              "{'train_err': 0.0492658580069996,\n",
              " 'avg_loss': 0.0492658580069996,\n",
              " 'avg_lasso_loss': None,\n",
              " 'epoch_train_time': 43.17167571600021,\n",
              " 'test_l2': tensor(0.0375)}"
            ]
          },
          "metadata": {},
          "execution_count": 49
        }
      ],
      "source": [
        "# Train the model\n",
        "trainer.train(train_loader, test_loaders, optimizer, scheduler)"
      ]
    },
    {
      "cell_type": "markdown",
      "id": "7b13931b-e764-45bb-92c0-7edb8df381ff",
      "metadata": {
        "id": "7b13931b-e764-45bb-92c0-7edb8df381ff"
      },
      "source": [
        "Strangely, I only get this NNPACK! warning occasionally. It seems to lead to about a 3x slowdown. Painful, considering how long training is taking already..."
      ]
    },
    {
      "cell_type": "markdown",
      "id": "d68ee164-f120-4d86-8ff9-5a966fffb478",
      "metadata": {
        "id": "d68ee164-f120-4d86-8ff9-5a966fffb478"
      },
      "source": [
        "Looking at the losses, it looks like we really only needed a couple of epochs to train! So how's it look?"
      ]
    },
    {
      "cell_type": "code",
      "execution_count": null,
      "id": "157b3fdb-0bdd-48f1-8d32-f35d50c3095c",
      "metadata": {
        "tags": [],
        "colab": {
          "base_uri": "https://localhost:8080/",
          "height": 870
        },
        "id": "157b3fdb-0bdd-48f1-8d32-f35d50c3095c",
        "outputId": "2c1ab819-d16f-48ec-9d62-c7c4071b8cb3"
      },
      "outputs": [
        {
          "output_type": "display_data",
          "data": {
            "text/plain": [
              "<Figure size 640x480 with 2 Axes>"
            ],
            "image/png": "[encoded data removed]"
          },
          "metadata": {}
        },
        {
          "output_type": "display_data",
          "data": {
            "text/plain": [
              "<Figure size 640x480 with 2 Axes>"
            ],
            "image/png": "[encoded data removed]"
          },
          "metadata": {}
        }
      ],
      "source": [
        "x_example = test_dataset[73]['x'].unsqueeze(0)\n",
        "y_expected = test_dataset[73]['y']\n",
        "y_predicted = model(x_example)\n",
        "\n",
        "plt.imshow(y_expected.squeeze(), cmap='coolwarm', aspect=W/H, extent=extent)\n",
        "plt.colorbar(label='Temperature (°K)')\n",
        "plt.title('Expected Output')\n",
        "plt.show()\n",
        "\n",
        "plot(y_predicted.squeeze().detach().numpy())\n",
        "plt.show()"
      ]
    },
    {
      "cell_type": "code",
      "execution_count": null,
      "id": "a214b680-5bcf-44b6-8d81-9f249f1f3aa5",
      "metadata": {
        "tags": [],
        "id": "a214b680-5bcf-44b6-8d81-9f249f1f3aa5",
        "outputId": "7c37702e-83cc-4a80-f5b6-e49049ca3b10"
      },
      "outputs": [
        {
          "name": "stdout",
          "output_type": "stream",
          "text": [
            "10.2 ms ± 289 μs per loop (mean ± std. dev. of 7 runs, 100 loops each)\n"
          ]
        }
      ],
      "source": [
        "%timeit y_predicted = model(x_example)"
      ]
    },
    {
      "cell_type": "markdown",
      "id": "c35351e2-abb0-4ec0-8859-435a88068d98",
      "metadata": {
        "id": "c35351e2-abb0-4ec0-8859-435a88068d98"
      },
      "source": [
        "Not terrible... let's crank it up!"
      ]
    },
    {
      "cell_type": "markdown",
      "id": "f696d0f6",
      "metadata": {
        "id": "f696d0f6"
      },
      "source": [
        "## Second Go Round"
      ]
    },
    {
      "cell_type": "code",
      "execution_count": null,
      "id": "e946d77f-7160-428c-89ef-25f6ba9e4b10",
      "metadata": {
        "colab": {
          "base_uri": "https://localhost:8080/"
        },
        "id": "e946d77f-7160-428c-89ef-25f6ba9e4b10",
        "outputId": "28594c7b-31dc-4aac-f1d9-2e12b019427c",
        "tags": []
      },
      "outputs": [
        {
          "output_type": "execute_result",
          "data": {
            "text/plain": [
              "torch.Size([1, 9, 15])"
            ]
          },
          "metadata": {},
          "execution_count": 57
        }
      ],
      "source": [
        "# Dataset Splitting\n",
        "input_tensor = data[:,:,:,:-1]\n",
        "output_tensor = data[[3],:,:,1:]  # Try to predict all variables at the next timestep\n",
        "\n",
        "time_dim = 3\n",
        "chunks = list(zip(map((lambda x: x.squeeze(3)), input_tensor.split(1, dim=time_dim)),\n",
        "                  map((lambda x: x.squeeze(3)), output_tensor.split(1, dim=time_dim))))\n",
        "torch.save(chunks, 'weather_chunks2.pt')\n",
        "full_dataset = WeatherTensorDataset('weather_chunks2.pt')\n",
        "\n",
        "train_size = int(0.8 * len(full_dataset)) #80% for train\n",
        "test_size = len(full_dataset) - train_size\n",
        "\n",
        "train_dataset, test_dataset = torch.utils.data.random_split(full_dataset, [train_size, test_size])\n",
        "\n",
        "train_loader = DataLoader(train_dataset, batch_size=1, shuffle=True)\n",
        "test_loader = DataLoader(test_dataset, batch_size=1, shuffle=False)\n",
        "\n",
        "train_dataset[0]['y'].shape # C x T x H x W, where T is the number of observation times"
      ]
    },
    {
      "cell_type": "code",
      "execution_count": null,
      "id": "b4685793-a17c-4ed0-a68d-f34da5a2e444",
      "metadata": {
        "colab": {
          "base_uri": "https://localhost:8080/"
        },
        "id": "b4685793-a17c-4ed0-a68d-f34da5a2e444",
        "outputId": "64ef5607-c599-44d5-b258-ef4e6fc8500d",
        "tags": []
      },
      "outputs": [
        {
          "output_type": "stream",
          "name": "stdout",
          "text": [
            "Training on 1167 samples\n",
            "Testing on [292] samples         on resolutions ['test'].\n",
            "Raw outputs of shape torch.Size([1, 1, 9, 15])\n",
            "[0] time=44.37, avg_loss=0.0812, train_err=0.0812\n",
            "Eval: test_l2=0.0395\n",
            "[1] time=43.43, avg_loss=0.0594, train_err=0.0594\n",
            "Eval: test_l2=0.0427\n",
            "[2] time=42.74, avg_loss=0.0528, train_err=0.0528\n",
            "Eval: test_l2=0.0373\n"
          ]
        },
        {
          "output_type": "execute_result",
          "data": {
            "text/plain": [
              "{'train_err': 0.05279590932200659,\n",
              " 'avg_loss': 0.05279590932200659,\n",
              " 'avg_lasso_loss': None,\n",
              " 'epoch_train_time': 42.74479609700029,\n",
              " 'test_l2': tensor(0.0373)}"
            ]
          },
          "metadata": {},
          "execution_count": 58
        }
      ],
      "source": [
        "# Model Setup\n",
        "\n",
        "in_channels = train_dataset[0]['x'].shape[0] # # of input\n",
        "out_channels = train_dataset[0]['y'].shape[0] # # of output\n",
        "\n",
        "# Initialize the model\n",
        "model = FNO(n_modes=(12, 12), hidden_channels=32, in_channels=in_channels, out_channels=out_channels)\n",
        "\n",
        "# Set device to GPU if available\n",
        "device = torch.device('cuda' if torch.cuda.is_available() else 'cpu')\n",
        "model.to(device)\n",
        "\n",
        "# Initialize optimizer and scheduler\n",
        "optimizer = torch.optim.Adam(model.parameters(), lr=1e-3)  # Adam optimizer with learning rate 0.001\n",
        "scheduler = torch.optim.lr_scheduler.StepLR(optimizer, step_size=10, gamma=0.5) # Learning rate scheduler\n",
        "\n",
        "# Training Setup\n",
        "trainer = Trainer(model=model, n_epochs=3, eval_interval=1, device=device, verbose=True)\n",
        "\n",
        "# Wrap the test_loader in a dictionary\n",
        "test_loaders = {'test': test_loader}\n",
        "\n",
        "trainer.train(train_loader, test_loaders, optimizer, scheduler)"
      ]
    },
    {
      "cell_type": "code",
      "execution_count": null,
      "id": "f8c2e316-9441-4f30-bde8-1183fd7adbae",
      "metadata": {
        "tags": [],
        "colab": {
          "base_uri": "https://localhost:8080/",
          "height": 871
        },
        "id": "f8c2e316-9441-4f30-bde8-1183fd7adbae",
        "outputId": "cbfbb2de-f98b-491a-e360-1e8881af5d0d"
      },
      "outputs": [
        {
          "output_type": "display_data",
          "data": {
            "text/plain": [
              "<Figure size 640x480 with 2 Axes>"
            ],
            "image/png": "[encoded data removed]"
          },
          "metadata": {}
        },
        {
          "output_type": "display_data",
          "data": {
            "text/plain": [
              "<Figure size 640x480 with 2 Axes>"
            ],
            "image/png": "[encoded data removed]"
          },
          "metadata": {}
        },
        {
          "output_type": "execute_result",
          "data": {
            "text/plain": [
              "torch.Size([1, 1, 9, 15])"
            ]
          },
          "metadata": {},
          "execution_count": 61
        }
      ],
      "source": [
        "look_at=42\n",
        "x_example = test_dataset[look_at]['x'].unsqueeze(0)\n",
        "y_expected = test_dataset[look_at]['y']\n",
        "y_predicted = model(x_example)\n",
        "plot(y_expected[0,:,:])\n",
        "plt.show()\n",
        "plot(y_predicted.squeeze(0)[0,:,:].detach().numpy())\n",
        "plt.show()\n",
        "y_predicted.shape"
      ]
    },
    {
      "cell_type": "markdown",
      "id": "07471555-4ba7-4c0c-8d82-7d72578e6c09",
      "metadata": {
        "id": "07471555-4ba7-4c0c-8d82-7d72578e6c09"
      },
      "source": [
        "Well that's.... worse... let's look at the rest of the channels?"
      ]
    },
    {
      "cell_type": "code",
      "execution_count": null,
      "id": "fbe203c4",
      "metadata": {
        "tags": [],
        "colab": {
          "base_uri": "https://localhost:8080/",
          "height": 853
        },
        "id": "fbe203c4",
        "outputId": "58a3a1eb-dcbd-4c37-aac8-79efa0e9e01b"
      },
      "outputs": [
        {
          "output_type": "display_data",
          "data": {
            "text/plain": [
              "<Figure size 640x480 with 2 Axes>"
            ],
            "image/png": "[encoded data removed]"
          },
          "metadata": {}
        },
        {
          "output_type": "display_data",
          "data": {
            "text/plain": [
              "<Figure size 640x480 with 2 Axes>"
            ],
            "image/png": "[encoded data removed]"
          },
          "metadata": {}
        }
      ],
      "source": [
        "#out = model(test_dataset[0]['x'].unsqueeze(0)).squeeze()\n",
        "#for i in range(out.shape[0]):\n",
        "#    prediction = out[i,:,:]\n",
        "#    test = test_dataset[0]['y'][i,:,:]\n",
        "#    plot(prediction.detach().numpy())\n",
        "#    plt.show()\n",
        "#    plot(test)\n",
        "#    plt.show()\n",
        "# not sure how to convert to make it work in the same way\n",
        "\n",
        "\n",
        "out = model(test_dataset[0]['x'].unsqueeze(0))\n",
        "for i in range(out.shape[0]):\n",
        "    prediction = out[0,i,:,:]\n",
        "    test = test_dataset[0]['y'][i,:,:]\n",
        "    plot(prediction.detach().numpy())\n",
        "    plt.show()\n",
        "    plot(test)\n",
        "    plt.show()"
      ]
    },
    {
      "cell_type": "markdown",
      "id": "25903468-40b1-4f62-abe3-7dd99d55adf0",
      "metadata": {
        "id": "25903468-40b1-4f62-abe3-7dd99d55adf0"
      },
      "source": [
        "Something is **very** wrong here."
      ]
    },
    {
      "cell_type": "code",
      "execution_count": null,
      "id": "af5452ed-dad1-46c5-be14-df48826e5a0c",
      "metadata": {
        "id": "af5452ed-dad1-46c5-be14-df48826e5a0c"
      },
      "outputs": [],
      "source": [
        "## Appendix: Data Conversion"
      ]
    },
    {
      "cell_type": "code",
      "execution_count": null,
      "id": "a2b0623e",
      "metadata": {
        "id": "a2b0623e"
      },
      "outputs": [],
      "source": [
        "#please don't remove I need them every time I pull from main\n",
        "#!apt-get install -y libeccodes0 libeccodes-dev\n",
        "#!pip install cfgrib xarray"
      ]
    },
    {
      "cell_type": "code",
      "execution_count": null,
      "id": "c9c8d3fb",
      "metadata": {
        "colab": {
          "base_uri": "https://localhost:8080/"
        },
        "id": "c9c8d3fb",
        "outputId": "d3bbcbf2-9e9d-4811-fe93-a5eb9e225af2"
      },
      "outputs": [
        {
          "name": "stdout",
          "output_type": "stream",
          "text": [
            "<xarray.Dataset> Size: 158kB\n",
            "Dimensions:            (step: 27, latitude: 22, longitude: 33)\n",
            "Coordinates:\n",
            "    time               datetime64[ns] 8B ...\n",
            "  * step               (step) timedelta64[ns] 216B 0 days 06:00:00 ... 6 days...\n",
            "    heightAboveGround  float64 8B ...\n",
            "  * latitude           (latitude) float64 176B 9.0 10.0 11.0 ... 28.0 29.0 30.0\n",
            "  * longitude          (longitude) float64 264B 263.0 264.2 ... 301.8 303.0\n",
            "    valid_time         (step) datetime64[ns] 216B ...\n",
            "Data variables:\n",
            "    u10                (step, latitude, longitude) float32 78kB ...\n",
            "    v10                (step, latitude, longitude) float32 78kB ...\n",
            "Attributes:\n",
            "    GRIB_edition:            1\n",
            "    GRIB_centre:             kwbc\n",
            "    GRIB_centreDescription:  US National Weather Service - NCEP\n",
            "    GRIB_subCentre:          0\n",
            "    Conventions:             CF-1.7\n",
            "    institution:             US National Weather Service - NCEP\n",
            "    history:                 2025-05-05T19:30 GRIB to CDM+CF via cfgrib-0.9.1...\n"
          ]
        },
        {
          "name": "stderr",
          "output_type": "stream",
          "text": [
            "/usr/local/lib/python3.11/dist-packages/cfgrib/xarray_plugin.py:131: FutureWarning: In a future version of xarray decode_timedelta will default to False rather than None. To silence this warning, set decode_timedelta to True, False, or a 'CFTimedeltaCoder' instance.\n",
            "  vars, attrs, coord_names = xr.conventions.decode_cf_variables(\n"
          ]
        },
        {
          "data": {
            "text/plain": [
              "KeysView(Frozen({'time': <xarray.Variable ()> Size: 8B\n",
              "[1 values with dtype=datetime64[ns]]\n",
              "Attributes:\n",
              "    long_name:      initial time of forecast\n",
              "    standard_name:  forecast_reference_time, 'step': <xarray.IndexVariable 'step' (step: 27)> Size: 216B\n",
              "array([ 21600000000000,  43200000000000,  64800000000000,  86400000000000,\n",
              "       108000000000000, 129600000000000, 151200000000000, 172800000000000,\n",
              "       194400000000000, 216000000000000, 237600000000000, 259200000000000,\n",
              "       280800000000000, 302400000000000, 324000000000000, 345600000000000,\n",
              "       367200000000000, 388800000000000, 410400000000000, 432000000000000,\n",
              "       453600000000000, 475200000000000, 496800000000000, 518400000000000,\n",
              "       540000000000000, 561600000000000, 583200000000000],\n",
              "      dtype='timedelta64[ns]')\n",
              "Attributes:\n",
              "    long_name:      time since forecast_reference_time\n",
              "    standard_name:  forecast_period, 'heightAboveGround': <xarray.Variable ()> Size: 8B\n",
              "[1 values with dtype=float64]\n",
              "Attributes:\n",
              "    long_name:      height above the surface\n",
              "    units:          m\n",
              "    positive:       up\n",
              "    standard_name:  height, 'latitude': <xarray.IndexVariable 'latitude' (latitude: 22)> Size: 176B\n",
              "array([ 9., 10., 11., 12., 13., 14., 15., 16., 17., 18., 19., 20., 21., 22.,\n",
              "       23., 24., 25., 26., 27., 28., 29., 30.])\n",
              "Attributes:\n",
              "    units:          degrees_north\n",
              "    standard_name:  latitude\n",
              "    long_name:      latitude, 'longitude': <xarray.IndexVariable 'longitude' (longitude: 33)> Size: 264B\n",
              "array([263.  , 264.25, 265.5 , 266.75, 268.  , 269.25, 270.5 , 271.75, 273.  ,\n",
              "       274.25, 275.5 , 276.75, 278.  , 279.25, 280.5 , 281.75, 283.  , 284.25,\n",
              "       285.5 , 286.75, 288.  , 289.25, 290.5 , 291.75, 293.  , 294.25, 295.5 ,\n",
              "       296.75, 298.  , 299.25, 300.5 , 301.75, 303.  ])\n",
              "Attributes:\n",
              "    units:          degrees_east\n",
              "    standard_name:  longitude\n",
              "    long_name:      longitude, 'valid_time': <xarray.Variable (step: 27)> Size: 216B\n",
              "[27 values with dtype=datetime64[ns]]\n",
              "Attributes:\n",
              "    standard_name:  time\n",
              "    long_name:      time, 'u10': <xarray.Variable (step: 27, latitude: 22, longitude: 33)> Size: 78kB\n",
              "[19602 values with dtype=float32]\n",
              "Attributes: (12/29)\n",
              "    GRIB_paramId:                             165\n",
              "    GRIB_numberOfPoints:                      726\n",
              "    GRIB_typeOfLevel:                         heightAboveGround\n",
              "    GRIB_stepUnits:                           1\n",
              "    GRIB_stepType:                            instant\n",
              "    GRIB_gridType:                            regular_ll\n",
              "    ...                                       ...\n",
              "    GRIB_name:                                10 metre U wind component\n",
              "    GRIB_shortName:                           10u\n",
              "    GRIB_units:                               m s**-1\n",
              "    long_name:                                10 metre U wind component\n",
              "    units:                                    m s**-1\n",
              "    standard_name:                            eastward_wind, 'v10': <xarray.Variable (step: 27, latitude: 22, longitude: 33)> Size: 78kB\n",
              "[19602 values with dtype=float32]\n",
              "Attributes: (12/29)\n",
              "    GRIB_paramId:                             166\n",
              "    GRIB_numberOfPoints:                      726\n",
              "    GRIB_typeOfLevel:                         heightAboveGround\n",
              "    GRIB_stepUnits:                           1\n",
              "    GRIB_stepType:                            instant\n",
              "    GRIB_gridType:                            regular_ll\n",
              "    ...                                       ...\n",
              "    GRIB_name:                                10 metre V wind component\n",
              "    GRIB_shortName:                           10v\n",
              "    GRIB_units:                               m s**-1\n",
              "    long_name:                                10 metre V wind component\n",
              "    units:                                    m s**-1\n",
              "    standard_name:                            northward_wind}))"
            ]
          },
          "execution_count": 27,
          "metadata": {},
          "output_type": "execute_result"
        }
      ],
      "source": [
        "import xarray as xr\n",
        "\n",
        "# Load GRIB (or grb) file (from what I found they act the same)\n",
        "ds = xr.open_dataset('CaribbeanWeatherTest.wind.7days.grb', engine='cfgrib')\n",
        "\n",
        "# Inspect the dataset\n",
        "print(ds)\n",
        "ds.variables.keys()"
      ]
    },
    {
      "cell_type": "code",
      "execution_count": null,
      "id": "e71d6ca0",
      "metadata": {
        "colab": {
          "base_uri": "https://localhost:8080/"
        },
        "id": "e71d6ca0",
        "outputId": "70c82e8e-ed98-4dc2-967a-9cb414305897"
      },
      "outputs": [
        {
          "name": "stdout",
          "output_type": "stream",
          "text": [
            "<xarray.DataArray 'time' ()> Size: 8B\n",
            "[1 values with dtype=datetime64[ns]]\n",
            "Coordinates:\n",
            "    time               datetime64[ns] 8B ...\n",
            "    heightAboveGround  float64 8B ...\n",
            "Attributes:\n",
            "    long_name:      initial time of forecast\n",
            "    standard_name:  forecast_reference_time\n"
          ]
        }
      ],
      "source": [
        "# For example, if 'time' is a variable:\n",
        "time = ds['time']\n",
        "print(time)"
      ]
    }
  ],
  "metadata": {
    "colab": {
      "provenance": []
    },
    "kernelspec": {
      "display_name": "Python 3 (ipykernel)",
      "language": "python",
      "name": "python3"
    },
    "language_info": {
      "codemirror_mode": {
        "name": "ipython",
        "version": 3
      },
      "file_extension": ".py",
      "mimetype": "text/x-python",
      "name": "python",
      "nbconvert_exporter": "python",
      "pygments_lexer": "ipython3",
      "version": "3.13.1"
    },
    "toc-autonumbering": false,
    "toc-showtags": false
  },
  "nbformat": 4,
  "nbformat_minor": 5
}