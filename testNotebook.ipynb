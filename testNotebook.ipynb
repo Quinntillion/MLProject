{
 "cells": [
  {
   "cell_type": "code",
   "execution_count": null,
   "id": "85b605ab",
   "metadata": {
    "vscode": {
     "languageId": "plaintext"
    }
   },
   "outputs": [],
   "source": [
    "Test notebooks"
   ]
  }
 ],
 "metadata": {
  "language_info": {
   "name": "python"
  }
 },
 "nbformat": 4,
 "nbformat_minor": 5
}
