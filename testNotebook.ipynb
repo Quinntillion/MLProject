{
 "cells": [
  {
   "cell_type": "code",
   "execution_count": null,
   "id": "85b605ab",
   "metadata": {},
   "outputs": [],
   "source": [
    "import pandas as pd\n",
    "from sklearn.preprocessing import OneHotEncoder\n",
    "from sklearn.model_selection import train_test_split\n",
    "from sklearn.ensemble import RandomForestClassifier\n",
    "from sklearn.metrics import accuracy_score, classification_report\n",
    "\n",
    "df = pd.read_csv('weather.csv')\n",
    "\n",
    "\n",
    "# Identify the categorical columns you want to one-hot encode\n",
    "categorical_cols = ['WindGustDir', 'WindDir9am', 'WindDir3pm', 'RainTomorrow', 'RainToday']\n",
    "\n",
    "# Create a OneHotEncoder object\n",
    "encoder = OneHotEncoder(handle_unknown='ignore', sparse_output=False)\n",
    "\n",
    "# Fit and transform the categorical columns\n",
    "encoded_data = encoder.fit_transform(df[categorical_cols])\n",
    "\n",
    "# Get the feature names for the new encoded columns\n",
    "feature_names = encoder.get_feature_names_out(categorical_cols)\n",
    "\n",
    "# Create a new DataFrame with the one-hot encoded data\n",
    "encoded_df = pd.DataFrame(encoded_data, columns=feature_names)\n",
    "\n",
    "# Concatenate the one-hot encoded DataFrame with the original DataFrame\n",
    "df_encoded = pd.concat([df.drop(categorical_cols, axis=1), encoded_df], axis=1)\n",
    "\n",
    "# Separate features (X) and target (y)\n",
    "X = df_encoded.iloc[:, :-1]  # all columns except the last\n",
    "y = df_encoded.iloc[:, -1]   # last\n",
    "\n",
    "\n",
    "# Handle missing values\n",
    "X = X.dropna()\n",
    "y = y.loc[X.index] # y only has rows corresponding to row indices of X\n",
    "\n",
    "\n",
    "X_train, X_test, y_train, y_test = train_test_split(X, y, test_size=0.3, random_state=42)\n",
    "\n",
    "\n",
    "model = RandomForestClassifier()\n",
    "model.fit(X_train, y_train)\n",
    "\n",
    "\n",
    "\n",
    "y_pred = model.predict(X_test)\n",
    "print('y_pred = ' , y_pred)\n",
    "print('y_test = ' , y_test)\n",
    "print(\"Accuracy:\", accuracy_score(y_test, y_pred))\n",
    "print(classification_report(y_test, y_pred))"
   ]
  }
 ],
 "metadata": {
  "kernelspec": {
   "display_name": "base",
   "language": "python",
   "name": "python3"
  },
  "language_info": {
   "codemirror_mode": {
    "name": "ipython",
    "version": 3
   },
   "file_extension": ".py",
   "mimetype": "text/x-python",
   "name": "python",
   "nbconvert_exporter": "python",
   "pygments_lexer": "ipython3",
   "version": "3.10.12"
  }
 },
 "nbformat": 4,
 "nbformat_minor": 5
}
